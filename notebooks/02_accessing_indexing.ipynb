{
 "cells": [
  {
   "cell_type": "markdown",
   "metadata": {},
   "source": [
    "| [**Overview**](./00_overview.ipynb) | [Getting Started](./01_jupyter_python.ipynb) | **Examples:** | [Access](./02_accessing_indexing.ipynb) | [Transform](./03_transform.ipynb) | [Plotting](./04_simple_vis.ipynb) | [Norm-Spiders](./05_norm_spiders.ipynb) | [Minerals](./06_minerals.ipynb) | **Workflows:** | [lambdas](./07_lambdas.ipynb) | [CIPW](./08_CIPW_Norm.ipynb)  | [ML](./11_geochem_ML.ipynb) | [Spatial Data](./12_spatial_geochem.ipynb) |\n",
    "| -- | -- | -- | -- | -- | -- | -- | -- | -- | -- | -- | -- | -- |\n",
    "\n",
    "# Acccessing and Indexing Geochemical Data with pyrolite\n",
    "\n",
    "\n",
    "The `pyrolite.pyrochem` API provides access to indexing and transformation functions. This allows easy subsetting of geochemical datasets which can otherwise be unweildly (expecially as the number of columns increases..). To provide a simple illustration we generate a synthetic dataset to work from, which contains an array of typical geochemical measures - oxide components, element components (here as ppm), element ratios and isotope ratios. While this size dataset is managable, some of the indexing tools pyrolite provides make it straightforward to pull out different parts of the dataset.\n",
    "\n",
    "A key thing to note here is that `pyrolite` provides a range of built-in functionality around known elements, oxides and isotope ratios. Typically, this means that having column names which are names of elements, oxide components or isotope ratios in the form $^{xx}A/^{xy}B$. This means you'll need to keep track of units etc yourself - which is where comments can be useful. This aspect may change in the future, with some ability to deal with units, non-standard column names and potentially even molecular ions (e.g. for hydrogeochemistry).\n",
    "\n",
    "First let's create some data to play with:"
   ]
  },
  {
   "cell_type": "code",
   "execution_count": null,
   "metadata": {
    "collapsed": false,
    "jupyter": {
     "outputs_hidden": false
    }
   },
   "outputs": [
    {
     "data": {
      "text/html": [
       "<div>\n",
       "<style scoped>\n",
       "    .dataframe tbody tr th:only-of-type {\n",
       "        vertical-align: middle;\n",
       "    }\n",
       "\n",
       "    .dataframe tbody tr th {\n",
       "        vertical-align: top;\n",
       "    }\n",
       "\n",
       "    .dataframe thead th {\n",
       "        text-align: right;\n",
       "    }\n",
       "</style>\n",
       "<table border=\"1\" class=\"dataframe\">\n",
       "  <thead>\n",
       "    <tr style=\"text-align: right;\">\n",
       "      <th></th>\n",
       "      <th>CaO</th>\n",
       "      <th>MgO</th>\n",
       "      <th>SiO2</th>\n",
       "      <th>FeO</th>\n",
       "      <th>Na2O</th>\n",
       "      <th>Ni</th>\n",
       "      <th>Ti</th>\n",
       "      <th>La</th>\n",
       "      <th>Lu</th>\n",
       "      <th>Te</th>\n",
       "      <th>Y</th>\n",
       "      <th>Sr87/Sr86</th>\n",
       "    </tr>\n",
       "  </thead>\n",
       "  <tbody>\n",
       "    <tr>\n",
       "      <th>0</th>\n",
       "      <td>4.664</td>\n",
       "      <td>0.813</td>\n",
       "      <td>4.929</td>\n",
       "      <td>4.020</td>\n",
       "      <td>8.933</td>\n",
       "      <td>122.687</td>\n",
       "      <td>234.151</td>\n",
       "      <td>33.175</td>\n",
       "      <td>39.962</td>\n",
       "      <td>291.972</td>\n",
       "      <td>44.472</td>\n",
       "      <td>0.71</td>\n",
       "    </tr>\n",
       "    <tr>\n",
       "      <th>1</th>\n",
       "      <td>4.450</td>\n",
       "      <td>0.680</td>\n",
       "      <td>4.885</td>\n",
       "      <td>3.851</td>\n",
       "      <td>9.114</td>\n",
       "      <td>122.604</td>\n",
       "      <td>226.745</td>\n",
       "      <td>32.907</td>\n",
       "      <td>37.888</td>\n",
       "      <td>304.841</td>\n",
       "      <td>45.203</td>\n",
       "      <td>0.71</td>\n",
       "    </tr>\n",
       "    <tr>\n",
       "      <th>2</th>\n",
       "      <td>5.529</td>\n",
       "      <td>1.032</td>\n",
       "      <td>5.656</td>\n",
       "      <td>4.351</td>\n",
       "      <td>9.128</td>\n",
       "      <td>116.602</td>\n",
       "      <td>237.472</td>\n",
       "      <td>31.198</td>\n",
       "      <td>42.361</td>\n",
       "      <td>266.793</td>\n",
       "      <td>48.618</td>\n",
       "      <td>0.71</td>\n",
       "    </tr>\n",
       "    <tr>\n",
       "      <th>3</th>\n",
       "      <td>5.952</td>\n",
       "      <td>0.818</td>\n",
       "      <td>5.268</td>\n",
       "      <td>3.922</td>\n",
       "      <td>9.307</td>\n",
       "      <td>125.765</td>\n",
       "      <td>214.353</td>\n",
       "      <td>30.167</td>\n",
       "      <td>39.707</td>\n",
       "      <td>289.203</td>\n",
       "      <td>48.133</td>\n",
       "      <td>0.71</td>\n",
       "    </tr>\n",
       "    <tr>\n",
       "      <th>4</th>\n",
       "      <td>4.108</td>\n",
       "      <td>0.672</td>\n",
       "      <td>4.348</td>\n",
       "      <td>3.731</td>\n",
       "      <td>8.918</td>\n",
       "      <td>122.056</td>\n",
       "      <td>230.911</td>\n",
       "      <td>32.128</td>\n",
       "      <td>36.899</td>\n",
       "      <td>315.416</td>\n",
       "      <td>44.817</td>\n",
       "      <td>0.71</td>\n",
       "    </tr>\n",
       "    <tr>\n",
       "      <th>5</th>\n",
       "      <td>4.909</td>\n",
       "      <td>0.685</td>\n",
       "      <td>5.419</td>\n",
       "      <td>4.040</td>\n",
       "      <td>9.596</td>\n",
       "      <td>119.492</td>\n",
       "      <td>214.651</td>\n",
       "      <td>32.919</td>\n",
       "      <td>38.397</td>\n",
       "      <td>299.354</td>\n",
       "      <td>48.700</td>\n",
       "      <td>0.71</td>\n",
       "    </tr>\n",
       "    <tr>\n",
       "      <th>6</th>\n",
       "      <td>5.374</td>\n",
       "      <td>0.959</td>\n",
       "      <td>5.696</td>\n",
       "      <td>4.429</td>\n",
       "      <td>8.927</td>\n",
       "      <td>114.807</td>\n",
       "      <td>242.492</td>\n",
       "      <td>32.403</td>\n",
       "      <td>42.454</td>\n",
       "      <td>265.043</td>\n",
       "      <td>48.956</td>\n",
       "      <td>0.71</td>\n",
       "    </tr>\n",
       "    <tr>\n",
       "      <th>7</th>\n",
       "      <td>4.544</td>\n",
       "      <td>0.746</td>\n",
       "      <td>4.878</td>\n",
       "      <td>3.941</td>\n",
       "      <td>9.138</td>\n",
       "      <td>123.788</td>\n",
       "      <td>224.320</td>\n",
       "      <td>31.953</td>\n",
       "      <td>38.827</td>\n",
       "      <td>298.667</td>\n",
       "      <td>49.989</td>\n",
       "      <td>0.71</td>\n",
       "    </tr>\n",
       "    <tr>\n",
       "      <th>8</th>\n",
       "      <td>5.518</td>\n",
       "      <td>0.831</td>\n",
       "      <td>5.964</td>\n",
       "      <td>4.222</td>\n",
       "      <td>9.518</td>\n",
       "      <td>123.117</td>\n",
       "      <td>218.928</td>\n",
       "      <td>33.220</td>\n",
       "      <td>39.767</td>\n",
       "      <td>275.591</td>\n",
       "      <td>48.855</td>\n",
       "      <td>0.71</td>\n",
       "    </tr>\n",
       "    <tr>\n",
       "      <th>9</th>\n",
       "      <td>4.968</td>\n",
       "      <td>0.719</td>\n",
       "      <td>5.023</td>\n",
       "      <td>3.825</td>\n",
       "      <td>9.299</td>\n",
       "      <td>124.131</td>\n",
       "      <td>219.470</td>\n",
       "      <td>31.087</td>\n",
       "      <td>38.000</td>\n",
       "      <td>301.390</td>\n",
       "      <td>47.585</td>\n",
       "      <td>0.71</td>\n",
       "    </tr>\n",
       "  </tbody>\n",
       "</table>\n",
       "</div>"
      ],
      "text/plain": [
       "     CaO    MgO   SiO2    FeO   Na2O       Ni       Ti      La      Lu  \\\n",
       "0  4.664  0.813  4.929  4.020  8.933  122.687  234.151  33.175  39.962   \n",
       "1  4.450  0.680  4.885  3.851  9.114  122.604  226.745  32.907  37.888   \n",
       "2  5.529  1.032  5.656  4.351  9.128  116.602  237.472  31.198  42.361   \n",
       "3  5.952  0.818  5.268  3.922  9.307  125.765  214.353  30.167  39.707   \n",
       "4  4.108  0.672  4.348  3.731  8.918  122.056  230.911  32.128  36.899   \n",
       "5  4.909  0.685  5.419  4.040  9.596  119.492  214.651  32.919  38.397   \n",
       "6  5.374  0.959  5.696  4.429  8.927  114.807  242.492  32.403  42.454   \n",
       "7  4.544  0.746  4.878  3.941  9.138  123.788  224.320  31.953  38.827   \n",
       "8  5.518  0.831  5.964  4.222  9.518  123.117  218.928  33.220  39.767   \n",
       "9  4.968  0.719  5.023  3.825  9.299  124.131  219.470  31.087  38.000   \n",
       "\n",
       "        Te       Y  Sr87/Sr86  \n",
       "0  291.972  44.472       0.71  \n",
       "1  304.841  45.203       0.71  \n",
       "2  266.793  48.618       0.71  \n",
       "3  289.203  48.133       0.71  \n",
       "4  315.416  44.817       0.71  \n",
       "5  299.354  48.700       0.71  \n",
       "6  265.043  48.956       0.71  \n",
       "7  298.667  49.989       0.71  \n",
       "8  275.591  48.855       0.71  \n",
       "9  301.390  47.585       0.71  "
      ]
     },
     "execution_count": 2,
     "metadata": {},
     "output_type": "execute_result"
    }
   ],
   "source": [
    "import numpy as np\n",
    "import pandas as pd\n",
    "import pyrolite.geochem\n",
    "from synthdata import get_synthetic_data\n",
    "\n",
    "pd.options.display.precision = 3  # smaller graphical outputs\n",
    "\n",
    "# create a dataframe which contains some oxides and elements\n",
    "df = get_synthetic_data(\n",
    "    columns=[\"CaO\", \"MgO\", \"SiO2\", \"FeO\", \"Na2O\", \"Ni\", \"Ti\", \"La\", \"Lu\", \"Te\", \"Y\"],\n",
    "    isotopes=True,\n",
    ")\n",
    "df"
   ]
  },
  {
   "cell_type": "markdown",
   "metadata": {},
   "source": [
    "To save a bit of space, below we'll use `df.head(2)` to restrict the output to just the top two rows:"
   ]
  },
  {
   "cell_type": "code",
   "execution_count": 3,
   "metadata": {},
   "outputs": [
    {
     "data": {
      "text/html": [
       "<div>\n",
       "<style scoped>\n",
       "    .dataframe tbody tr th:only-of-type {\n",
       "        vertical-align: middle;\n",
       "    }\n",
       "\n",
       "    .dataframe tbody tr th {\n",
       "        vertical-align: top;\n",
       "    }\n",
       "\n",
       "    .dataframe thead th {\n",
       "        text-align: right;\n",
       "    }\n",
       "</style>\n",
       "<table border=\"1\" class=\"dataframe\">\n",
       "  <thead>\n",
       "    <tr style=\"text-align: right;\">\n",
       "      <th></th>\n",
       "      <th>CaO</th>\n",
       "      <th>MgO</th>\n",
       "      <th>SiO2</th>\n",
       "      <th>FeO</th>\n",
       "      <th>Na2O</th>\n",
       "      <th>Ni</th>\n",
       "      <th>Ti</th>\n",
       "      <th>La</th>\n",
       "      <th>Lu</th>\n",
       "      <th>Te</th>\n",
       "      <th>Y</th>\n",
       "      <th>Sr87/Sr86</th>\n",
       "    </tr>\n",
       "  </thead>\n",
       "  <tbody>\n",
       "    <tr>\n",
       "      <th>0</th>\n",
       "      <td>4.664</td>\n",
       "      <td>0.813</td>\n",
       "      <td>4.929</td>\n",
       "      <td>4.020</td>\n",
       "      <td>8.933</td>\n",
       "      <td>122.687</td>\n",
       "      <td>234.151</td>\n",
       "      <td>33.175</td>\n",
       "      <td>39.962</td>\n",
       "      <td>291.972</td>\n",
       "      <td>44.472</td>\n",
       "      <td>0.71</td>\n",
       "    </tr>\n",
       "    <tr>\n",
       "      <th>1</th>\n",
       "      <td>4.450</td>\n",
       "      <td>0.680</td>\n",
       "      <td>4.885</td>\n",
       "      <td>3.851</td>\n",
       "      <td>9.114</td>\n",
       "      <td>122.604</td>\n",
       "      <td>226.745</td>\n",
       "      <td>32.907</td>\n",
       "      <td>37.888</td>\n",
       "      <td>304.841</td>\n",
       "      <td>45.203</td>\n",
       "      <td>0.71</td>\n",
       "    </tr>\n",
       "  </tbody>\n",
       "</table>\n",
       "</div>"
      ],
      "text/plain": [
       "     CaO    MgO   SiO2    FeO   Na2O       Ni       Ti      La      Lu  \\\n",
       "0  4.664  0.813  4.929  4.020  8.933  122.687  234.151  33.175  39.962   \n",
       "1  4.450  0.680  4.885  3.851  9.114  122.604  226.745  32.907  37.888   \n",
       "\n",
       "        Te       Y  Sr87/Sr86  \n",
       "0  291.972  44.472       0.71  \n",
       "1  304.841  45.203       0.71  "
      ]
     },
     "execution_count": 3,
     "metadata": {},
     "output_type": "execute_result"
    }
   ],
   "source": [
    "df.head(2)"
   ]
  },
  {
   "cell_type": "markdown",
   "metadata": {},
   "source": [
    "### Selecting Data\n",
    "\n",
    "To select a subset of columns from the dataframe, the `pyrolite.pyrochem` API has a few built-in selectors - *note that these are returning DataFrames*:"
   ]
  },
  {
   "cell_type": "code",
   "execution_count": null,
   "metadata": {
    "collapsed": false,
    "jupyter": {
     "outputs_hidden": false
    }
   },
   "outputs": [],
   "source": [
    "df.head(2).pyrochem.oxides"
   ]
  },
  {
   "cell_type": "code",
   "execution_count": null,
   "metadata": {
    "collapsed": false,
    "jupyter": {
     "outputs_hidden": false
    }
   },
   "outputs": [],
   "source": [
    "df.head(2).pyrochem.elements"
   ]
  },
  {
   "cell_type": "code",
   "execution_count": null,
   "metadata": {
    "collapsed": false,
    "jupyter": {
     "outputs_hidden": false
    }
   },
   "outputs": [],
   "source": [
    "df.head(2).pyrochem.REE"
   ]
  },
  {
   "cell_type": "code",
   "execution_count": null,
   "metadata": {
    "collapsed": false,
    "jupyter": {
     "outputs_hidden": false
    }
   },
   "outputs": [],
   "source": [
    "df.head(2).pyrochem.REY"
   ]
  },
  {
   "cell_type": "code",
   "execution_count": null,
   "metadata": {
    "collapsed": false,
    "jupyter": {
     "outputs_hidden": false
    }
   },
   "outputs": [],
   "source": [
    "df.head(2).pyrochem.compositional"
   ]
  },
  {
   "cell_type": "code",
   "execution_count": null,
   "metadata": {
    "collapsed": false,
    "jupyter": {
     "outputs_hidden": false
    }
   },
   "outputs": [],
   "source": [
    "df.head(2).pyrochem.isotope_ratios"
   ]
  },
  {
   "cell_type": "markdown",
   "metadata": {},
   "source": [
    "---\n",
    "These selectors can also be used to re-assign modified subsets back to the dataframe - useful if you wanted to just process/scale/transform/standardise a subset of the data - e.g. normalising the strontium isotope ratios:"
   ]
  },
  {
   "cell_type": "code",
   "execution_count": null,
   "metadata": {},
   "outputs": [],
   "source": [
    "df.pyrochem.isotope_ratios /= 0.7016"
   ]
  },
  {
   "cell_type": "code",
   "execution_count": null,
   "metadata": {},
   "outputs": [],
   "source": [
    "df.head(2).pyrochem.isotope_ratios"
   ]
  },
  {
   "cell_type": "markdown",
   "metadata": {},
   "source": [
    "------\n",
    "### Listing Columns\n",
    "If you *just want the column names* (to see what you have, or use them somewhere), it's easy enough to get those too (these are actually used in the indexing above):"
   ]
  },
  {
   "cell_type": "code",
   "execution_count": null,
   "metadata": {
    "collapsed": false,
    "jupyter": {
     "outputs_hidden": false
    }
   },
   "outputs": [],
   "source": [
    "df.pyrochem.list_oxides"
   ]
  },
  {
   "cell_type": "code",
   "execution_count": null,
   "metadata": {
    "collapsed": false,
    "jupyter": {
     "outputs_hidden": false
    }
   },
   "outputs": [],
   "source": [
    "df.pyrochem.list_elements"
   ]
  },
  {
   "cell_type": "code",
   "execution_count": null,
   "metadata": {
    "collapsed": false,
    "jupyter": {
     "outputs_hidden": false
    }
   },
   "outputs": [],
   "source": [
    "df.pyrochem.list_REE"
   ]
  },
  {
   "cell_type": "code",
   "execution_count": null,
   "metadata": {
    "collapsed": false,
    "jupyter": {
     "outputs_hidden": false
    }
   },
   "outputs": [],
   "source": [
    "df.pyrochem.list_compositional"
   ]
  },
  {
   "cell_type": "code",
   "execution_count": null,
   "metadata": {
    "collapsed": false,
    "jupyter": {
     "outputs_hidden": false
    }
   },
   "outputs": [],
   "source": [
    "df.pyrochem.list_isotope_ratios"
   ]
  },
  {
   "cell_type": "markdown",
   "metadata": {},
   "source": [
    "----\n",
    "<div class='alert alert-warning'> <font size=\"+1\" color=\"black\"><b> Checkpoint & Time Check</b><br>How are things going?</font></div>\n",
    "\n",
    "----"
   ]
  },
  {
   "cell_type": "markdown",
   "metadata": {},
   "source": [
    "| [**Overview**](./00_overview.ipynb) | [Getting Started](./01_jupyter_python.ipynb) | **Examples:** | [Access](./02_accessing_indexing.ipynb) | [Transform](./03_transform.ipynb) | [Plotting](./04_simple_vis.ipynb) | [Norm-Spiders](./05_norm_spiders.ipynb) | [Minerals](./06_minerals.ipynb) | **Workflows:** | [lambdas](./07_lambdas.ipynb) | [CIPW](./08_CIPW_Norm.ipynb)  | [ML](./11_geochem_ML.ipynb) | [Spatial Data](./12_spatial_geochem.ipynb) |\n",
    "| -- | -- | -- | -- | -- | -- | -- | -- | -- | -- | -- | -- | -- |"
   ]
  }
 ],
 "metadata": {
  "kernelspec": {
   "display_name": "pyrolite",
   "language": "python",
   "name": "python3"
  },
  "language_info": {
   "codemirror_mode": {
    "name": "ipython",
    "version": 3
   },
   "file_extension": ".py",
   "mimetype": "text/x-python",
   "name": "python",
   "nbconvert_exporter": "python",
   "pygments_lexer": "ipython3",
   "version": "3.11.10"
  }
 },
 "nbformat": 4,
 "nbformat_minor": 4
}
