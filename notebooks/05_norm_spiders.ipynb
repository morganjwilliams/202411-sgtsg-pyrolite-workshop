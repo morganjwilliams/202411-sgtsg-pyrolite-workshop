{
 "cells": [
  {
   "cell_type": "markdown",
   "metadata": {},
   "source": [
    "| [**Overview**](./00_overview.ipynb) | [Getting Started](./01_jupyter_python.ipynb) | **Examples:** | [Access](./02_accessing_indexing.ipynb) | [Transform](./03_transform.ipynb) | [Plotting](./04_simple_vis.ipynb) | [Norm-Spiders](./05_norm_spiders.ipynb) | [Minerals](./06_minerals.ipynb) | [lambdas](./07_lambdas.ipynb) | [CIPW](./08_CIPW_Norm.ipynb) | [Lattice Strain](./09_lattice_strain.ipynb) | **Extensions:** | [ML](./11_geochem_ML.ipynb) | [Spatial Data](./12_spatial_geochem.ipynb) |\n",
    "| -- | -- | -- | -- | -- | -- | -- | -- | -- | -- | -- | -- | -- | -- |\n",
    "\n",
    "# Normalisation and Spider Plots\n"
   ]
  },
  {
   "cell_type": "code",
   "execution_count": null,
   "metadata": {},
   "outputs": [],
   "source": [
    "import matplotlib.pyplot as plt\n",
    "from pyrolite.util.synthetic import example_spider_data\n",
    "\n",
    "df = example_spider_data(\n",
    "    start=\"DM_SS2004\", norm_to=None, noise_level=0.2\n",
    ")  # unnormalised dataframe based around depleted mantle"
   ]
  },
  {
   "cell_type": "markdown",
   "metadata": {},
   "source": [
    "### Spider Plots\n",
    "\n",
    "Visualisation of multivariate patterns in geochemical data can be a challenge, but one tool well adpated to is the 'spiderplot'. In most cases, you'll want to visualise normalised data (e.g. to Chondrite or Primitive Mantle) such that the effects of nuceleosynthesis and planetary formation are removed and you can instead dig deeper into processes which have happend since. The `pyrolite.pyrochem` API can be chained together with the `pyolite.pyroplot` API to do this in one line."
   ]
  },
  {
   "cell_type": "code",
   "execution_count": null,
   "metadata": {},
   "outputs": [],
   "source": [
    "df.pyrochem.normalize_to(\"PM_PON\", units=\"ppm\").pyroplot.spider(\n",
    "    unity_line=True, color=\"0.5\", alpha=0.4, figsize=(20, 4)\n",
    ")"
   ]
  },
  {
   "cell_type": "markdown",
   "metadata": {},
   "source": [
    "For now we'll save the normalised dataframe, as that's what we'll be working with:"
   ]
  },
  {
   "cell_type": "code",
   "execution_count": null,
   "metadata": {},
   "outputs": [],
   "source": [
    "normdf = df.pyrochem.normalize_to(\"PM_PON\", units=\"ppm\")"
   ]
  },
  {
   "cell_type": "markdown",
   "metadata": {},
   "source": [
    "There's a range of styling options for spider plots, and if needed you can even style the lines and markers differently! For example, we can map the color to a specific element, ratio or other variable:"
   ]
  },
  {
   "cell_type": "code",
   "execution_count": null,
   "metadata": {},
   "outputs": [],
   "source": [
    "ax = normdf.pyroplot.spider(\n",
    "    unity_line=True,\n",
    "    color=normdf.pyrochem.get_ratio(\"Sc/Ti\"),\n",
    "    cmap=\"plasma\",\n",
    "    figsize=(20, 4),\n",
    ")"
   ]
  },
  {
   "cell_type": "markdown",
   "metadata": {},
   "source": [
    "If you want to add a colorbar for the spiderplot, pyrolite includes a function to makes this relatively simple (despite the otherwise slightly complicated backend to spider plots) where you're colormapping other variables - `mappable_from_values`. This takes as input an array/series of data, and you'll need to include the relevant keyword arguments to make it all line up:"
   ]
  },
  {
   "cell_type": "code",
   "execution_count": null,
   "metadata": {},
   "outputs": [],
   "source": [
    "from pyrolite.util.plot.style import mappable_from_values\n",
    "\n",
    "ax = normdf.pyroplot.spider(\n",
    "    unity_line=True,\n",
    "    color=normdf.pyrochem.get_ratio(\"Sc/Ti\"),\n",
    "    cmap=\"plasma\",\n",
    "    figsize=(20, 4),\n",
    ")\n",
    "mappable = mappable_from_values(normdf.pyrochem.get_ratio(\"Sc/Ti\"), cmap=\"plasma\")\n",
    "cb = ax.figure.colorbar(mappable, ax=ax, label=\"Sc/Ti\")"
   ]
  },
  {
   "cell_type": "markdown",
   "metadata": {},
   "source": [
    "When it comes to ordering your axes, `spider` will generally use the order in which you provide the dataframe. There's a few automated indexing options, however:"
   ]
  },
  {
   "cell_type": "code",
   "execution_count": null,
   "metadata": {},
   "outputs": [],
   "source": [
    "fig, ax = plt.subplots(2, 1, sharey=True, figsize=(20, 8))\n",
    "normdf.pyroplot.spider(\n",
    "    ax=ax[0],\n",
    "    unity_line=True,\n",
    "    color=normdf[\"Ni\"],\n",
    "    cmap=\"Blues\",\n",
    "    index_order=\"incompatibility\",\n",
    ")\n",
    "normdf.pyroplot.spider(\n",
    "    ax=ax[1],\n",
    "    unity_line=True,\n",
    "    color=1 / normdf[\"Ni\"],\n",
    "    cmap=\"Greens\",\n",
    "    index_oder=\"number\",\n",
    ")"
   ]
  },
  {
   "cell_type": "markdown",
   "metadata": {},
   "source": [
    "We can also make conditional density spider plots:"
   ]
  },
  {
   "cell_type": "code",
   "execution_count": null,
   "metadata": {},
   "outputs": [],
   "source": [
    "normdf.pyroplot.spider(\n",
    "    unity_line=True,\n",
    "    mode=\"binkde\",\n",
    "    bins=100,\n",
    "    yextent=(0.1, 1.5),\n",
    "    vmin=0.03,\n",
    "    cmap=\"cividis\",\n",
    "    resolution=15,\n",
    "    figsize=(20, 4),\n",
    ")"
   ]
  },
  {
   "cell_type": "markdown",
   "metadata": {},
   "source": [
    "For the REE data specifically, there's also a method which will scale axes to ionic radii:"
   ]
  },
  {
   "cell_type": "code",
   "execution_count": null,
   "metadata": {},
   "outputs": [],
   "source": [
    "normdf.pyroplot.REE(unity_line=True, color=\"0.5\", alpha=0.4)"
   ]
  },
  {
   "cell_type": "markdown",
   "metadata": {},
   "source": [
    "We can also style this as above, including by colormapping a particular variable:"
   ]
  },
  {
   "cell_type": "code",
   "execution_count": null,
   "metadata": {},
   "outputs": [],
   "source": [
    "normdf.pyroplot.REE(unity_line=True, c=df[\"MgO\"], cmap=\"cividis\", alpha=0.5)"
   ]
  },
  {
   "cell_type": "markdown",
   "metadata": {},
   "source": [
    "---\n",
    "**Optional:** Consider checking out other reference compositions and plotting options for spider diagrams."
   ]
  },
  {
   "cell_type": "code",
   "execution_count": null,
   "metadata": {},
   "outputs": [],
   "source": [
    "from pyrolite.geochem.norm import all_reference_compositions\n",
    "\n",
    "all_reference_compositions()"
   ]
  },
  {
   "cell_type": "markdown",
   "metadata": {},
   "source": [
    "----\n",
    "<div class='alert alert-warning'> <font size=\"+1\" color=\"black\"><b> Checkpoint & Time Check</b><br>How are things going?</font></div>\n",
    "\n",
    "----"
   ]
  },
  {
   "cell_type": "markdown",
   "metadata": {},
   "source": [
    "| [**Overview**](./00_overview.ipynb) | [Getting Started](./01_jupyter_python.ipynb) | **Examples:** | [Access](./02_accessing_indexing.ipynb) | [Transform](./03_transform.ipynb) | [Plotting](./04_simple_vis.ipynb) | [Norm-Spiders](./05_norm_spiders.ipynb) | [Minerals](./06_minerals.ipynb) | [lambdas](./07_lambdas.ipynb) | [CIPW](./08_CIPW_Norm.ipynb) | [Lattice Strain](./09_lattice_strain.ipynb) | **Extensions:** | [ML](./11_geochem_ML.ipynb) | [Spatial Data](./12_spatial_geochem.ipynb) |\n",
    "| -- | -- | -- | -- | -- | -- | -- | -- | -- | -- | -- | -- | -- | -- |"
   ]
  }
 ],
 "metadata": {
  "kernelspec": {
   "display_name": "pyrolite",
   "language": "python",
   "name": "python3"
  },
  "language_info": {
   "codemirror_mode": {
    "name": "ipython",
    "version": 3
   },
   "file_extension": ".py",
   "mimetype": "text/x-python",
   "name": "python",
   "nbconvert_exporter": "python",
   "pygments_lexer": "ipython3",
   "version": "3.11.10"
  }
 },
 "nbformat": 4,
 "nbformat_minor": 4
}
