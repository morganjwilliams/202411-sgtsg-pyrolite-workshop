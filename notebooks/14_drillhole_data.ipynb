{
 "cells": [
  {
   "cell_type": "markdown",
   "metadata": {},
   "source": [
    "| [**Overview**](./00_overview.ipynb) | [Getting Started](./01_jupyter_python.ipynb) | **Examples:** | [Access](./02_accessing_indexing.ipynb) | [Transform](./03_transform.ipynb) | [Plotting](./04_simple_vis.ipynb) | [Norm-Spiders](./05_norm_spiders.ipynb) | [Minerals](./06_minerals.ipynb) | **Workflows:** | [lambdas](./07_lambdas.ipynb) | [CIPW](./08_CIPW_Norm.ipynb)  | [ML](./11_geochem_ML.ipynb) | [Spatial Data](./12_spatial_geochem.ipynb) |\n",
    "| -- | -- | -- | -- | -- | -- | -- | -- | -- | -- | -- | -- | -- |\n",
    "\n",
    "# Bonus: Drillhole Data in 3D\n",
    "\n",
    "As a bonus example, below I've added some code to generate a 3D plot of drillhole samples, from the Mirabella dataset:\n",
    "\n",
    ">  Barnes, Stephen (2024): Mirabela Layered Intrusion Assay Database. v1. CSIRO. Data Collection. \n",
    "https://doi.org/10.25919/rda7-vj66\n",
    "\n",
    "> Barnes, S. J., & Williams, M. (2024). Postcumulus Processes Recorded in Whole-Rock Geochemistry: \n",
    "A Case Study from the Mirabela Layered Intrusion, Brazil. Journal of Petrology, 65(4), egae019. \n",
    "https://doi.org/10.1093/petrology/egae019\n",
    "\n",
    "For more on the dataset, see the [README](../data/mirabella/README.md)."
   ]
  },
  {
   "cell_type": "code",
   "execution_count": null,
   "metadata": {},
   "outputs": [],
   "source": [
    "import matplotlib.pyplot as plt\n",
    "import numpy as np\n",
    "import pandas as pd\n",
    "from matplotlib.colors import LogNorm\n",
    "\n",
    "df = pd.read_excel(\"../data/mirabella/mirabella.xlsx\")\n",
    "df[df.columns[6:]] = np.where(\n",
    "    df[df.columns[6:]] > 0, df[df.columns[6:]], np.nan\n",
    ")  # remove data below zero\n"
   ]
  },
  {
   "cell_type": "code",
   "execution_count": null,
   "metadata": {},
   "outputs": [],
   "source": [
    "%matplotlib widget"
   ]
  },
  {
   "cell_type": "code",
   "execution_count": null,
   "metadata": {},
   "outputs": [],
   "source": [
    "color_by = \"Pd_ppb\"\n",
    "\n",
    "fig, ax = plt.subplots(1, figsize=(10, 10), subplot_kw={\"projection\": \"3d\"})\n",
    "sc = ax.scatter(\n",
    "    df[\"NAT_East\"],\n",
    "    df[\"NAT_North\"],\n",
    "    -df[\"mFrom\"],\n",
    "    c=df[color_by],\n",
    "    s=1,\n",
    "    cmap=\"cividis\",\n",
    "    norm=LogNorm(),\n",
    ")\n",
    "# orient the figure to see the dipping stratigraphy\n",
    "ax.view_init(elev=10, azim=60)\n",
    "# add a colorbar\n",
    "plt.colorbar(sc, ax=ax, shrink=0.5, label=color_by)\n"
   ]
  }
 ],
 "metadata": {
  "kernelspec": {
   "display_name": "workshop-env",
   "language": "python",
   "name": "python3"
  },
  "language_info": {
   "codemirror_mode": {
    "name": "ipython",
    "version": 3
   },
   "file_extension": ".py",
   "mimetype": "text/x-python",
   "name": "python",
   "nbconvert_exporter": "python",
   "pygments_lexer": "ipython3",
   "version": "3.12.7"
  }
 },
 "nbformat": 4,
 "nbformat_minor": 2
}
