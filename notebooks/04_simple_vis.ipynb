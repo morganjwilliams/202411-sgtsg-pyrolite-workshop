{
 "cells": [
  {
   "cell_type": "markdown",
   "metadata": {},
   "source": [
    "| [**Overview**](./00_overview.ipynb) | [Getting Started](./01_jupyter_python.ipynb) | **Examples:** | [Access](./02_accessing_indexing.ipynb) | [Transform](./03_transform.ipynb) | [Plotting](./04_simple_vis.ipynb) | [Norm-Spiders](./05_norm_spiders.ipynb) | [Minerals](./06_minerals.ipynb) | [lambdas](./07_lambdas.ipynb) | [CIPW](./08_CIPW_Norm.ipynb) | [Lattice Strain](./09_lattice_strain.ipynb) | **Extensions:** | [ML](./11_geochem_ML.ipynb) | [Spatial Data](./12_spatial_geochem.ipynb) |\n",
    "| -- | -- | -- | -- | -- | -- | -- | -- | -- | -- | -- | -- | -- | -- |\n",
    "\n",
    "# Simple Visualisation:<br> Bivariate, Ternary and Density Plots\n",
    "\n",
    "`pyrolite` contains an array of visualisation methods, a few of which we'll quickly run through here. For more, check out the [examples gallery](https://pyrolite.readthedocs.io/en/develop/examples/index.html#plotting-examples)!"
   ]
  },
  {
   "cell_type": "code",
   "execution_count": null,
   "metadata": {},
   "outputs": [],
   "source": [
    "import numpy as np\n",
    "import pandas as pd\n",
    "import matplotlib.pyplot as plt\n",
    "from pyrolite.util.synthetic import normal_frame"
   ]
  },
  {
   "cell_type": "code",
   "execution_count": null,
   "metadata": {},
   "outputs": [],
   "source": [
    "df = normal_frame(\n",
    "    columns=[\n",
    "        \"SiO2\",\n",
    "        \"CaO\",\n",
    "        \"MgO\",\n",
    "        \"FeO\",\n",
    "        \"TiO2\",\n",
    "    ],  # columns we want for our dataframe - they're all treated the same currently\n",
    "    cov=np.eye(4)\n",
    "    * np.array(\n",
    "        [0.35, 0.85, 0.3, 1.1]\n",
    "    ),  # here we specify a covariance matrix - this simply tells it 'how spread out' we want the data\n",
    "    size=1000,  # how many 'samples' we want\n",
    "    seed=13,  # specify a random seed - so we have random data, but the same random data each time\n",
    ")"
   ]
  },
  {
   "cell_type": "markdown",
   "metadata": {},
   "source": [
    "---\n",
    "## Bivariate Plotting\n",
    "\n",
    "While there are many ways to get to simple bivariate plots, `pyrolite` provides a few options which can provide a simpler interface and easier access to simple styling configuration."
   ]
  },
  {
   "cell_type": "code",
   "execution_count": null,
   "metadata": {},
   "outputs": [],
   "source": [
    "df[[\"MgO\", \"SiO2\"]].pyroplot.scatter(color=\"k\", marker=\"o\", alpha=0.5)"
   ]
  },
  {
   "cell_type": "markdown",
   "metadata": {},
   "source": [
    "Where we get to larger datasets, overplotting becomes an issue, and we may want to consider methods for visualising the distribution of data as a whole rather than individual points. `pyrolite` has as few options for this, including 'density' plots and 'heatscatter' plots (based on kernel density estimates)."
   ]
  },
  {
   "cell_type": "code",
   "execution_count": null,
   "metadata": {},
   "outputs": [],
   "source": [
    "df[[\"MgO\", \"SiO2\"]].pyroplot.density(bins=100)"
   ]
  },
  {
   "cell_type": "markdown",
   "metadata": {},
   "source": [
    "While this can look quite nice, and it solves the issue of overplotting we were nearing above, sometimes we want to be able to plot over this and clearly see where new data sits. In this case, we can instead use percentile contours of the kernel density estimate instead:"
   ]
  },
  {
   "cell_type": "code",
   "execution_count": null,
   "metadata": {},
   "outputs": [],
   "source": [
    "df[[\"MgO\", \"SiO2\"]].pyroplot.density(\n",
    "    bins=100, contours=[0.5, 0.95], colors=[\"k\", \"0.5\"]\n",
    ")"
   ]
  },
  {
   "cell_type": "markdown",
   "metadata": {},
   "source": [
    "While it does look nice, the data density diagram and contours both show kernel density which crosses the axes - which shouldn't occur when we consider that abundances are positive-only! One way to get around this is to use a log-scaled kernel density grid. We can see that this improves the situation for both figures:\n",
    "\n",
    "Note also that we can change colormaps - matplotlib has [a decent range to choose from](https://matplotlib.org/stable/tutorials/colors/colormaps.html), noting that you should lean towards linear unidirectional colormaps in most geochemical data cases!"
   ]
  },
  {
   "cell_type": "code",
   "execution_count": null,
   "metadata": {},
   "outputs": [],
   "source": [
    "fig, ax = plt.subplots(1, 2, figsize=(12, 4))\n",
    "df[[\"MgO\", \"SiO2\"]].pyroplot.density(\n",
    "    ax=ax[0], bins=100, logx=True, logy=True, cmap=\"Purples\"\n",
    ")\n",
    "df[[\"MgO\", \"SiO2\"]].pyroplot.density(\n",
    "    ax=ax[1], bins=100, contours=[0.5, 0.95], colors=[\"k\", \"0.5\"], logx=True, logy=True\n",
    ")"
   ]
  },
  {
   "cell_type": "markdown",
   "metadata": {},
   "source": [
    "Another way to visualise your data is to combine summary information provided by the kernel density estimate with the scatter plot to produce a heatscatter plot which retains the best of both worlds. Here we can see the position of each invdividual sample beyond the core of the distribution, and also itentify where the greatest density of samples are:"
   ]
  },
  {
   "cell_type": "code",
   "execution_count": null,
   "metadata": {},
   "outputs": [],
   "source": [
    "df[[\"MgO\", \"SiO2\"]].pyroplot.heatscatter(alpha=0.5, logx=True, logy=True)"
   ]
  },
  {
   "cell_type": "markdown",
   "metadata": {},
   "source": [
    "---\n",
    "## Ternary Plots\n",
    "\n",
    "Ternary plots are a common in geochemistry, mineralogy and petrology but dont' necessarily pop up elsewhere. `pyrolite` provides an interface to create ternary plots wherever you pass three columns, making it as simple as creating our bivariate plots above!"
   ]
  },
  {
   "cell_type": "code",
   "execution_count": null,
   "metadata": {},
   "outputs": [],
   "source": [
    "df[[\"CaO\", \"MgO\", \"FeO\"]].pyroplot.scatter(color=\"k\", marker=\"o\", alpha=0.5)"
   ]
  },
  {
   "cell_type": "markdown",
   "metadata": {},
   "source": [
    "In contrast to most ternary plots, however, we can also create data density visualisations (based on distributions in logratio space):"
   ]
  },
  {
   "cell_type": "code",
   "execution_count": null,
   "metadata": {},
   "outputs": [],
   "source": [
    "df[[\"CaO\", \"MgO\", \"FeO\"]].pyroplot.density(contours=[0.5, 0.95], colors=[\"k\", \"0.5\"])"
   ]
  },
  {
   "cell_type": "code",
   "execution_count": null,
   "metadata": {},
   "outputs": [],
   "source": [
    "df[[\"CaO\", \"MgO\", \"FeO\"]].pyroplot.heatscatter(alpha=0.5, cmap=\"cividis\", s=3)"
   ]
  },
  {
   "cell_type": "markdown",
   "metadata": {},
   "source": [
    "---\n",
    "## Plot Templates\n",
    "\n",
    "pyrolite provides a few built-in plot templates, with the idea to expand the collection in the near future. "
   ]
  },
  {
   "cell_type": "code",
   "execution_count": null,
   "metadata": {},
   "outputs": [],
   "source": [
    "from pyrolite.plot.templates import pearceThNbYb, TAS"
   ]
  },
  {
   "cell_type": "code",
   "execution_count": null,
   "metadata": {},
   "outputs": [],
   "source": [
    "ax = pearceThNbYb()"
   ]
  },
  {
   "cell_type": "code",
   "execution_count": null,
   "metadata": {},
   "outputs": [],
   "source": [
    "ax = TAS()"
   ]
  },
  {
   "cell_type": "markdown",
   "metadata": {},
   "source": [
    "This TAS diagram is a litte more than it seems - it's actually built upon a classifer, which will allow you to automatically classify your samples if you have the relevant data:"
   ]
  },
  {
   "cell_type": "code",
   "execution_count": null,
   "metadata": {},
   "outputs": [],
   "source": [
    "from pyrolite.util.classification import TAS\n",
    "from pyrolite.util.synthetic import normal_frame\n",
    "\n",
    "df = (\n",
    "    normal_frame(\n",
    "        columns=[\"SiO2\", \"Na2O\", \"K2O\", \"Al2O3\"],\n",
    "        mean=[0.5, 0.04, 0.05, 0.4],\n",
    "        size=100,\n",
    "        seed=49,\n",
    "    )\n",
    "    * 100  # scaled by 100% for the standard TAS diagram\n",
    ")\n",
    "df[\"Na2O + K2O\"] = df[\"Na2O\"] + df[\"K2O\"]\n",
    "\n",
    "cm = TAS()  # TAS classifier model\n",
    "df[\"TAS\"] = cm.predict(df)  # predict what TAS class the samples occupy"
   ]
  },
  {
   "cell_type": "code",
   "execution_count": null,
   "metadata": {},
   "outputs": [],
   "source": [
    "ax = cm.add_to_axes(\n",
    "    alpha=0.5, linewidth=0.5, zorder=-1, labels=\"ID\"\n",
    ")  # add the TAS diagram with the labels to an axis\n",
    "df[[\"SiO2\", \"Na2O + K2O\"]].pyroplot.scatter(\n",
    "    ax=ax, c=df[\"TAS\"], alpha=0.5\n",
    ")  # plot the data colored by their TAS class"
   ]
  },
  {
   "cell_type": "markdown",
   "metadata": {},
   "source": [
    "## A Quick Aside: Exporting Figures\n",
    "\n",
    "We quickly mentioned exporting tables from `pandas` earlier (see the [range of import and export options](https://pandas.pydata.org/pandas-docs/stable/user_guide/io.html)), and here we can have a look at the options exporting for `matplotlib` figures. This is largely centered around the [`save_figure` function](https://matplotlib.org/stable/api/_as_gen/matplotlib.pyplot.savefig.html), and `pyrolite` provides a bit of a shortcut to this if you'd like to use it.\n",
    "\n",
    "A range of export formats are available - in standard raster (JPEG, PNG, TIFF etc) and vector formats (PDF, SVG, EPS etc)."
   ]
  },
  {
   "cell_type": "code",
   "execution_count": null,
   "metadata": {},
   "outputs": [],
   "source": [
    "from pyrolite.util.plot import save_figure\n",
    "\n",
    "save_figure(ax.figure, name=\"TAS_Diagram\")  # defualt PNG output"
   ]
  },
  {
   "cell_type": "markdown",
   "metadata": {},
   "source": [
    "The `save_figure` function also allows you to export in multiple formats at the same time:"
   ]
  },
  {
   "cell_type": "code",
   "execution_count": null,
   "metadata": {},
   "outputs": [],
   "source": [
    "save_figure(ax.figure, name=\"TAS_Diagram.pdf\", save_fmts=[\"png\", \"pdf\"], dpi=300)"
   ]
  },
  {
   "cell_type": "markdown",
   "metadata": {},
   "source": [
    "---\n",
    "\n",
    "Check out some of the other templates in `pyrolite.plot.templates` (e.g. the `USDASoilTexture` Triangle)."
   ]
  },
  {
   "cell_type": "code",
   "execution_count": null,
   "metadata": {},
   "outputs": [],
   "source": []
  },
  {
   "cell_type": "markdown",
   "metadata": {},
   "source": [
    "----\n",
    "<div class='alert alert-warning'> <font size=\"+1\" color=\"black\"><b> Checkpoint & Time Check</b><br>How are things going?</font></div>\n",
    "\n",
    "----"
   ]
  },
  {
   "cell_type": "markdown",
   "metadata": {
    "tags": []
   },
   "source": [
    "## Pulling a Few Things Together for a Short Workflow\n",
    "\n",
    "Below we'll look at how we can use some of the compositional data functionality of `pyrolite.comp` in a data analysis and visualisation workflow. We'll be looking at some spinel geochemistry data from Norilsk, and examining the geochemical features of spinels found as inclusions within different phases (we quickly loaded this a few notebooks back). \n",
    "\n",
    "The data we use below is available as supplementary material in Schoneveld, L., Barnes, S. J., Williams, M., Le Vaillant, M., and  Paterson, D., 2020, Silicate and Oxide Mineral Chemistry and Textures of the Norilsk-Talnakh Ni-Cu-Platinum Group Element Ore-Bearing Intrusions: Economic Geology doi: http://doi.org/10.5382/econgeo.4747. We can see that each major-element mineral analysis below includes relevant context as to the data source, analysis, thin section location and the enclosing phase within which the spinel sits. The analyses include major oxides in weight percent, and calcuated atoms per formula unit (apfu) for each of these cations:"
   ]
  },
  {
   "cell_type": "code",
   "execution_count": null,
   "metadata": {},
   "outputs": [],
   "source": [
    "#import the data\n",
    "df = pd.read_csv('../data/spinel/Schoneveld2020.csv')\n",
    "numerical_columns = df.select_dtypes('number').columns\n",
    "df[numerical_columns] = df[numerical_columns].where(lambda x: x > 0.) # remove values below zero\n",
    "df.head(2)"
   ]
  },
  {
   "cell_type": "markdown",
   "metadata": {},
   "source": [
    "What we'd like to do here is look at how the chemistry varies between spinels found in different enclosing phases - and from that point see what we can link back to the magmatic history of some of these rocks. We can see that there are five potential mineral hosts for spinel (olivine, pyroxene, plagioclase, sulfide and 'silicate'), the potential for spinels to be in bubbles and an empty data value - 'nan':"
   ]
  },
  {
   "cell_type": "code",
   "execution_count": null,
   "metadata": {},
   "outputs": [],
   "source": [
    "# list the enclosing phases of the spinel\n",
    "df['Enclosing Phase'].unique()"
   ]
  },
  {
   "cell_type": "markdown",
   "metadata": {},
   "source": [
    "Before we get into some visualisation, we can standardise some colors so that everything looks the same throughout:"
   ]
  },
  {
   "cell_type": "code",
   "execution_count": null,
   "metadata": {},
   "outputs": [],
   "source": [
    "#give each category a colour\n",
    "colors = {'bubble':'grey', 'olivine':'green', 'plagioclase':'pink', 'pyroxene':'teal', 'silicate':'lightgrey', 'sulphide':'orange'}"
   ]
  },
  {
   "cell_type": "markdown",
   "metadata": {},
   "source": [
    "First - we can have a look at how each group of spinels is distributed with resepctto the major spinel cations $Cr$, $Al$, and $Fe^{3+}$:"
   ]
  },
  {
   "cell_type": "code",
   "execution_count": null,
   "metadata": {},
   "outputs": [],
   "source": [
    "apfu = ['Cr_apfu','Al_apfu','Fe3_apfu'] # the columns we'd like to look at"
   ]
  },
  {
   "cell_type": "code",
   "execution_count": null,
   "metadata": {},
   "outputs": [],
   "source": [
    "# for each group plot a spinel ternary diagram of the atoms per formula unit (apfu) of the trivalent cations\n",
    "fig, ax = plt.subplots(1, figsize=(8, 8))\n",
    "\n",
    "labels = []\n",
    "for host, gdf in df.groupby('Enclosing Phase'):\n",
    "    ax = gdf[apfu].pyroplot.scatter(c=colors[host], ax=ax)\n",
    "    labels.append(host)\n",
    "\n",
    "ax.legend(labels, fontsize=12, markerscale=1.8)"
   ]
  },
  {
   "cell_type": "markdown",
   "metadata": {},
   "source": [
    "Now we'd like to plot the averages of each group on our ternary diagram, and also write these out into a separate file which we can keep handy for refrence:"
   ]
  },
  {
   "cell_type": "code",
   "execution_count": null,
   "metadata": {},
   "outputs": [],
   "source": [
    "fig, ax = plt.subplots(1, figsize=(8, 8))\n",
    "\n",
    "labels = []\n",
    "for host, gdf in df.groupby('Enclosing Phase'):\n",
    "    ax = gdf[apfu].pyroplot.scatter(c=colors[host], ax=ax) # scatter points\n",
    "    labels.append(host)\n",
    "\n",
    "ax.legend(labels, fontsize=12, markerscale=1.8)\n",
    "\n",
    "means = {}\n",
    "for host, gdf in df.groupby('Enclosing Phase'):\n",
    "    ax = gdf[apfu].pyroplot.scatter(c=colors[host], ax=ax) # scatter points\n",
    "    mean = gdf[apfu].dropna(how='any').pyrocomp.logratiomean()\n",
    "    \n",
    "    mean.pyroplot.scatter(ax=ax, \n",
    "                          facecolors=colors[host], \n",
    "                          marker='D', \n",
    "                          s=100, \n",
    "                          edgecolors=\"k\", \n",
    "                          linewidths=1, \n",
    "                          zorder=3)\n",
    "    means[host] = mean # store the mean so we can export it shortly"
   ]
  },
  {
   "cell_type": "markdown",
   "metadata": {},
   "source": [
    "We now have a dictionary of means for each phase, which we can turn into a dataframe:"
   ]
  },
  {
   "cell_type": "code",
   "execution_count": null,
   "metadata": {},
   "outputs": [],
   "source": [
    "meandf = pd.DataFrame.from_records(means).T\n",
    "meandf"
   ]
  },
  {
   "cell_type": "markdown",
   "metadata": {},
   "source": [
    "We can easily export this to a csv file:"
   ]
  },
  {
   "cell_type": "code",
   "execution_count": null,
   "metadata": {},
   "outputs": [],
   "source": [
    "meandf.to_csv('spinel_mean_{}.csv'.format('-'.join(apfu))) # create a csv with the mean compositions which we can use later"
   ]
  },
  {
   "cell_type": "markdown",
   "metadata": {},
   "source": [
    "Looks like we're most of the way there in terms of exploring the geochemical features of spinels in each of our mineral hosts - but perhaps we don't need to know the composition of every spot (some we cant' see in this diagram anyway!), and we'd just like a summary contour of the main section of the distribution. We can use `df.pyroplot.density()` to create a 68th percentile contour. "
   ]
  },
  {
   "cell_type": "code",
   "execution_count": null,
   "metadata": {},
   "outputs": [],
   "source": [
    "fig, ax = plt.subplots(1, figsize=(8, 8), subplot_kw={\"projection\": \"ternary\"})\n",
    "\n",
    "means = {}\n",
    "labels = {}\n",
    "for host, gdf in df.groupby(\"Enclosing Phase\"):\n",
    "    if gdf.index.size > 1:\n",
    "        labels[host] = []\n",
    "        # plot a contour of approximately +/- 1 sigma from the mean composition, assuming a gaussian distsribution\n",
    "        ax = (\n",
    "            gdf[apfu]\n",
    "            .dropna(how=\"any\")\n",
    "            .pyroplot.density(\n",
    "                ax=ax,\n",
    "                bins=50,\n",
    "                contours=[0.68],\n",
    "                colors=colors[host],\n",
    "                # label_contours=False\n",
    "            )\n",
    "        )\n",
    "        labels[host].append(\n",
    "            ax.collections[-1].legend_elements()[0][0]\n",
    "        )  # use proxy line for legend\n",
    "        mean = gdf[apfu].dropna(how=\"any\").pyrocomp.logratiomean()\n",
    "        means[host] = mean  # store the mean so we can export it shortly\n",
    "        mean.pyroplot.scatter(\n",
    "            ax=ax,\n",
    "            facecolors=colors[host],\n",
    "            marker=\"D\",\n",
    "            s=100,\n",
    "            edgecolors=\"k\",\n",
    "            linewidths=1,\n",
    "            zorder=3,\n",
    "        )\n",
    "        labels[host].append(ax.collections[-1])\n",
    "        labels[host] = tuple(labels[host])\n",
    "        # labels[host] = tuple(ax.collections[-2:])  # last two collections added\n",
    "\n",
    "\n",
    "ax.legend(\n",
    "    labels.values(),\n",
    "    list(labels.keys()),\n",
    "    fontsize=12,\n",
    "    markerscale=0.8,\n",
    "    bbox_to_anchor=(0.8, 1),\n",
    ")  # our legend, pulling int inside the figure a little for better use of space"
   ]
  },
  {
   "cell_type": "markdown",
   "metadata": {},
   "source": [
    "We can now save this figure for future reference - or to put into a manuscript. While you can use the default `matplotlib` method `fig.savefig`, `pyrolite` has a helper function which will make sure legends etc aren't cut off, and for saving in multiple formats at once:"
   ]
  },
  {
   "cell_type": "code",
   "execution_count": null,
   "metadata": {},
   "outputs": [],
   "source": [
    "from pyrolite.util.plot import save_figure\n",
    "save_figure(fig, './Norilsk_spinel_chemistry_by_host', save_fmts=['png'])"
   ]
  },
  {
   "cell_type": "markdown",
   "metadata": {},
   "source": [
    "Now that we have a workflow going, you could wrap this up into a function or two so we can use it for other mineral inclusion datasets!"
   ]
  },
  {
   "cell_type": "markdown",
   "metadata": {},
   "source": [
    "| [**Overview**](./00_overview.ipynb) | [Getting Started](./01_jupyter_python.ipynb) | **Examples:** | [Access](./02_accessing_indexing.ipynb) | [Transform](./03_transform.ipynb) | [Plotting](./04_simple_vis.ipynb) | [Norm-Spiders](./05_norm_spiders.ipynb) | [Minerals](./06_minerals.ipynb) | [lambdas](./07_lambdas.ipynb) | [CIPW](./08_CIPW_Norm.ipynb) | [Lattice Strain](./09_lattice_strain.ipynb) | **Extensions:** | [ML](./11_geochem_ML.ipynb) | [Spatial Data](./12_spatial_geochem.ipynb) |\n",
    "| -- | -- | -- | -- | -- | -- | -- | -- | -- | -- | -- | -- | -- | -- |"
   ]
  }
 ],
 "metadata": {
  "kernelspec": {
   "display_name": "pyrolite",
   "language": "python",
   "name": "python3"
  },
  "language_info": {
   "codemirror_mode": {
    "name": "ipython",
    "version": 3
   },
   "file_extension": ".py",
   "mimetype": "text/x-python",
   "name": "python",
   "nbconvert_exporter": "python",
   "pygments_lexer": "ipython3",
   "version": "3.11.10"
  }
 },
 "nbformat": 4,
 "nbformat_minor": 4
}
