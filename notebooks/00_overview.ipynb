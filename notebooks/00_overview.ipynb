{
 "cells": [
  {
   "cell_type": "markdown",
   "metadata": {},
   "source": [
    "| [**Overview**](./00_overview.ipynb) | [Getting Started](./01_jupyter_python.ipynb) | **Examples:** | [Access](./02_accessing_indexing.ipynb) | [Transform](./03_transform.ipynb) | [Plotting](./04_simple_vis.ipynb) | [Norm-Spiders](./05_norm_spiders.ipynb) | [Minerals](./06_minerals.ipynb) | [lambdas](./07_lambdas.ipynb) | [CIPW](./08_CIPW_Norm.ipynb)  | **Extensions:** | [ML](./11_geochem_ML.ipynb) | [Spatial Data](./12_spatial_geochem.ipynb) |\n",
    "| -- | -- | -- | -- | -- | -- | -- | -- | -- | -- | -- | -- | -- |\n",
    "\n",
    "# Using `pyrolite` for Geochemical Data Analytics: An Introduction\n",
    "\n",
    "<img src=\"https://pyrolite.readthedocs.io/en/main/_static/icon.png\" style=\"display:inline; float: right; margin: 0px 15px 15px 0px;\" width=\"20%\"/>\n",
    "<div class='alert alert-info'> <b> Note:</b> expect this repository to be continually updated until the day of the workshop; a new version will be released on the day.</div>\n",
    "\n",
    "\n",
    "pyrolite is an open-source Python package for working with geochemical data which\n",
    "aims to help geoscientists new to coding get off the ground quickly. It contains\n",
    "a variety of functionality for the processing, transformation and visualisation\n",
    "of geochemical and mineralogical data (see\n",
    "[pyrolite.rtfd.io](https://pyrolite.rtfd.io) for more information).\n",
    "This hands-on workshop will introduce Python and the Jupyter ecosystem, showcase\n",
    "some of pyrolite’s key features and demonstrate a series of geochemical data\n",
    "analytics workflows. \n",
    "\n",
    "---\n"
   ]
  },
  {
   "cell_type": "markdown",
   "metadata": {},
   "source": [
    "For more information on `pyrolite`, visit the [documentation page](https://pyrolite.rtfd.io/en/develop/), where there is [a gallery of examples](https://pyrolite.readthedocs.io/en/develop/examples/index.html). Note that the content for this workshop exclusively works with >= v0.3.6, which is accessible via PyPI (i.e. using `pip`) or on GitHub [fro|m GitHub](https://github.com/morganjwilliams/pyrolite/tree/0.3.6). If you want to check out some of my other open software projects, most are listed on [my GitHub profile](https://github.com/morganjwilliams). Feel free to get in touch via Gitter (for anything `pyrolite` related), or send an email to `morgan.williams` _at_ `csiro.au`."
   ]
  }
 ],
 "metadata": {
  "kernelspec": {
   "display_name": "pyrolite",
   "language": "python",
   "name": "pyrolite"
  },
  "language_info": {
   "codemirror_mode": {
    "name": "ipython",
    "version": 3
   },
   "file_extension": ".py",
   "mimetype": "text/x-python",
   "name": "python",
   "nbconvert_exporter": "python",
   "pygments_lexer": "ipython3",
   "version": "3.7.10"
  }
 },
 "nbformat": 4,
 "nbformat_minor": 4
}
