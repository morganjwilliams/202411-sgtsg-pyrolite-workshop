{
 "cells": [
  {
   "cell_type": "markdown",
   "metadata": {},
   "source": [
    "| [**Overview**](./00_overview.ipynb) |\n",
    "| -- |\n",
    "\n",
    "# Using `pyrolite` for Geochemical Data Analytics: An Introduction\n",
    "\n",
    "<img src=\"https://pyrolite.readthedocs.io/en/main/_static/icon.png\" style=\"display:inline; float: right; margin: 0px 15px 15px 0px;\" width=\"20%\"/>\n",
    "<div class='alert alert-info'> <b> Note:</b> expect this repository to be continually updated until the day of the workshop; a new version will be released on the day.</div>\n",
    "\n",
    "\n",
    "pyrolite is an open-source Python package for working with geochemical data which\n",
    "aims to help geoscientists new to coding get off the ground quickly. It contains\n",
    "a variety of functionality for the processing, transformation and visualisation\n",
    "of geochemical and mineralogical data (see\n",
    "[pyrolite.rtfd.io](https://pyrolite.rtfd.io) for more information).\n",
    "This hands-on workshop will introduce Python and the Jupyter ecosystem, showcase\n",
    "some of pyrolite’s key features and demonstrate a series of geochemical data\n",
    "analytics workflows. \n",
    "\n",
    "---\n"
   ]
  },
  {
   "cell_type": "markdown",
   "metadata": {},
   "source": [
    "For more information on `pyrolite`, visit the [documentation page](https://pyrolite.rtfd.io/en/develop/), where there is [a gallery of examples](https://pyrolite.readthedocs.io/en/develop/examples/index.html). Note that the content for this workshop exclusively works with >= v0.3.5, which is accessible via PyPI (i.e. using `pip`) or on GitHub [from GitHub](https://github.com/morganjwilliams/pyrolite/tree/0.3.5). If you want to check out some of my other open software projects, most are listed on [my GitHub profile](https://github.com/morganjwilliams). Feel free to get in touch via Gitter (for anything `pyrolite` related), via [Twitter](https://twitter.com/metasomite) or send an email to `morgan.williams` _at_ `csiro.au`."
   ]
  }
 ],
 "metadata": {
  "kernelspec": {
   "display_name": "pyrolite",
   "language": "python",
   "name": "pyrolite"
  },
  "language_info": {
   "codemirror_mode": {
    "name": "ipython",
    "version": 3
   },
   "file_extension": ".py",
   "mimetype": "text/x-python",
   "name": "python",
   "nbconvert_exporter": "python",
   "pygments_lexer": "ipython3",
   "version": "3.7.10"
  }
 },
 "nbformat": 4,
 "nbformat_minor": 4
}
