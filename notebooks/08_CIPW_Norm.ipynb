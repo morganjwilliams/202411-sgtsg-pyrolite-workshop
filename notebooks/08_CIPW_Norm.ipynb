{
 "cells": [
  {
   "cell_type": "markdown",
   "metadata": {},
   "source": [
    "| [**Overview**](./00_overview.ipynb) | [Getting Started](./01_jupyter_python.ipynb) | **Examples:** | [Access](./02_accessing_indexing.ipynb) | [Transform](./03_transform.ipynb) | [Plotting](./04_simple_vis.ipynb) | [Norm-Spiders](./05_norm_spiders.ipynb) | [Minerals](./06_minerals.ipynb) | **Workflows:** | [lambdas](./07_lambdas.ipynb) | [CIPW](./08_CIPW_Norm.ipynb)  | [ML](./11_geochem_ML.ipynb) | [Spatial Data](./12_spatial_geochem.ipynb) |\n",
    "| -- | -- | -- | -- | -- | -- | -- | -- | -- | -- | -- | -- | -- |\n",
    "\n",
    "# CIPW Norm\n",
    "\n",
    "The CIPW (W. Cross, J. P. Iddings, L. V. Pirsson, and H. S. Washington) Norm was\n",
    "introducted as a standard procedure for the estimation of rock-forming mineral\n",
    "assemblages of igneous rocks from their geochemical compositions [Cross1902] .\n",
    "This estimation process enables the approximate classificaiton of\n",
    "microcrystalline and partially crystalline rocks using a range of\n",
    "mineralogically-based classificaiton systems (e.g. most IUGS classifications),\n",
    "and the generation of normative-mineral modifiers for geochemical classificaiton\n",
    "systems.\n",
    "\n",
    "A range of updated, modified and adjusted Norms were published in the century\n",
    "following the original publication of the CIPW Norm, largely culminating in\n",
    "Surendra Verma's 2003 paper \"A revised CIPW norm\" which enumerates an\n",
    "algorithm for the estimation of an anhydrous Standard Igenous Norm (SIN)\n",
    "[Verma2003] .\n",
    "This was subsequently updated with the publication of IgRoCS [Verma2013] .\n",
    "A version of this algorithm has now been implemented in\n",
    "`pyrolite` (`pyrolite.mineral.normative.CIPW_norm`), and an overview\n",
    "of the implementation and the currently available options is given below.\n",
    "\n",
    "For the purposes of testing, pyrolite includes a file containing the outputs from\n",
    "Verma's SINCLAS/IgRoCS program, we'll use this as an example here."
   ]
  },
  {
   "cell_type": "code",
   "execution_count": null,
   "metadata": {
    "collapsed": false,
    "jupyter": {
     "outputs_hidden": false
    }
   },
   "outputs": [],
   "source": [
    "import matplotlib.pyplot as plt\n",
    "import numpy as np\n",
    "import pandas as pd\n",
    "\n",
    "import pyrolite\n",
    "from pyrolite.util.meta import pyrolite_datafolder\n",
    "\n",
    "df = (\n",
    "    pd.read_csv(pyrolite_datafolder() / \"testing\" / \"CIPW_Verma_Test.csv\")\n",
    "    .dropna(how=\"all\", axis=1)\n",
    "    .pyrochem.parse_chem()\n",
    ")\n",
    "df.pyrochem.compositional = df.pyrochem.compositional.apply(\n",
    "    pd.to_numeric, errors=\"coerce\"\n",
    ").fillna(0)\n",
    "df[[c for c in df.columns if \"NORM\" in c]] = df.loc[\n",
    "    :, [c for c in df.columns if \"NORM\" in c]\n",
    "].apply(pd.to_numeric, errors=\"coerce\")"
   ]
  },
  {
   "cell_type": "markdown",
   "metadata": {},
   "source": [
    "The CIPW Norm can be accessed via `pyrolite.mineral.normative.CIPW_norm`,\n",
    "and expects a dataframe as input containing major element oxides (in wt%) and\n",
    "can also use a select set of trace elements (in ppm).\n",
    "\n",
    "\n"
   ]
  },
  {
   "cell_type": "code",
   "execution_count": null,
   "metadata": {
    "collapsed": false,
    "jupyter": {
     "outputs_hidden": false
    }
   },
   "outputs": [],
   "source": [
    "from pyrolite.mineral.normative import CIPW_norm\n",
    "\n",
    "NORM = CIPW_norm(df.pyrochem.compositional)"
   ]
  },
  {
   "cell_type": "markdown",
   "metadata": {},
   "source": [
    "We can quickly check that this includes mineralogical data:\n",
    "\n",
    "\n"
   ]
  },
  {
   "cell_type": "code",
   "execution_count": null,
   "metadata": {
    "collapsed": false,
    "jupyter": {
     "outputs_hidden": false
    }
   },
   "outputs": [],
   "source": [
    "NORM.columns"
   ]
  },
  {
   "cell_type": "markdown",
   "metadata": {},
   "source": [
    "The function accepts a few keyword arguments, all to do with the iron compositions\n",
    "and related adjustment/corrections:\n",
    "\n",
    "* `Fe_correction = \"LeMaitre\" | \"Middlemost\"`\n",
    "  For specifying the Fe-correction method/function. Currently includes LeMaitre's\n",
    "  correction method [LeMaitre1976]_ (the default) and Middlemost's TAS-based\n",
    "  correction [Middlemost1989]_ .\n",
    "\n",
    "* `Fe_correction_mode = 'volcanic'`\n",
    "  For specificying the Fe-correction mode, for LeMaitre's correction.\n",
    "\n",
    "* `adjust_all_Fe = False`\n",
    "  Specifying whether you want to adjust all iron compositions, or only those\n",
    "  which are partially specified (i.e. only have a singular value for one of\n",
    "  FeO, Fe2O3, FeOT, Fe2O3T).\n",
    "\n",
    "\n"
   ]
  },
  {
   "cell_type": "code",
   "execution_count": null,
   "metadata": {
    "collapsed": false,
    "jupyter": {
     "outputs_hidden": false
    }
   },
   "outputs": [],
   "source": [
    "NORM = CIPW_norm(df.pyrochem.compositional, Fe_correction=\"Middlemost\")"
   ]
  },
  {
   "cell_type": "markdown",
   "metadata": {},
   "source": [
    "For the purpose of establishing the congruency of our algorithm with Verma's,\n",
    "we'll use `adjust_all_Fe = True` and LeMaitre's correction. Notably, this\n",
    "won't make too much difference to the format of the output, but it will adjust\n",
    "the estimates of normative mineralogy depending on oxidation state.\n"
   ]
  },
  {
   "cell_type": "code",
   "execution_count": null,
   "metadata": {
    "collapsed": false,
    "jupyter": {
     "outputs_hidden": false
    }
   },
   "outputs": [],
   "source": [
    "NORM = CIPW_norm(\n",
    "    df.pyrochem.compositional,\n",
    "    adjust_all_Fe=True,\n",
    "    Fe_correction=\"LeMaitre\",\n",
    "    Fe_correction_mode=\"volcanic\",\n",
    ")"
   ]
  },
  {
   "cell_type": "markdown",
   "metadata": {},
   "source": [
    "Now we have the normative mineralogical outputs, we can have a look to see how\n",
    "these compare to some relevant geochemical inputs:\n",
    "\n",
    "\n"
   ]
  },
  {
   "cell_type": "code",
   "execution_count": null,
   "metadata": {
    "collapsed": false,
    "jupyter": {
     "outputs_hidden": false
    }
   },
   "outputs": [],
   "source": [
    "ax = NORM[[\"ilmenite\", \"magnetite\"]].pyroplot.scatter(clip_on=False, c=df[\"TiO2\"])"
   ]
  },
  {
   "cell_type": "code",
   "execution_count": null,
   "metadata": {
    "collapsed": false,
    "jupyter": {
     "outputs_hidden": false
    }
   },
   "outputs": [],
   "source": [
    "ax = NORM[[\"orthoclase\", \"albite\", \"anorthite\"]].pyroplot.scatter()"
   ]
  },
  {
   "cell_type": "markdown",
   "metadata": {},
   "source": [
    "## References\n",
    "\n",
    "\n",
    "[Cross1902] Cross, W., Iddings, J. P., Pirsson, L. V., &\n",
    "    Washington, H. S. (1902).\n",
    "    A Quantitative Chemico-Mineralogical Classification and Nomenclature of\n",
    "    Igneous Rocks. The Journal of Geology, 10(6), 555–690.\n",
    "    [doi: 10.1086/621030](https://doi.org/10.1086/621030)\n",
    "\n",
    "[Verma2003] Verma, S. P., Torres-Alvarado, I. S., & Velasco-Tapia, F. (2003).\n",
    "    A revised CIPW norm.\n",
    "    Swiss Bulletin of Mineralogy and Petrology, 83(2), 197–216.\n",
    "\n",
    "[Verma2013] Verma, S. P., & Rivera-Gomez, M. A. (2013). Computer Programs\n",
    "    for the Classification and Nomenclature of Igneous Rocks.\n",
    "    Episodes, 36(2), 115–124.\n",
    "\n",
    "[LeMaitre1976] Le Maitre, R. W (1976).\n",
    "    Some Problems of the Projection of Chemical Data into Mineralogical\n",
    "    Classifications.\n",
    "    Contributions to Mineralogy and Petrology 56, no. 2 (1 January 1976): 181–89.\n",
    "    [doi: doi.org/10.1007/BF00399603](https://doi.org/10.1007/BF00399603)\n",
    "\n",
    "[Middlemost1989] Middlemost, Eric A. K. (1989). Iron Oxidation Ratios,\n",
    "    Norms and the Classification of Volcanic Rocks.\n",
    "    Chemical Geology 77, 1: 19–26.\n",
    "    [doi: doi.org/10.1016/0009-2541(89)90011-9.](https://doi.org/10.1016/0009-2541(89)90011-9.)\n",
    "\n",
    "\n",
    "\n"
   ]
  },
  {
   "cell_type": "markdown",
   "metadata": {},
   "source": [
    "| [**Overview**](./00_overview.ipynb) | [Getting Started](./01_jupyter_python.ipynb) | **Examples:** | [Access](./02_accessing_indexing.ipynb) | [Transform](./03_transform.ipynb) | [Plotting](./04_simple_vis.ipynb) | [Norm-Spiders](./05_norm_spiders.ipynb) | [Minerals](./06_minerals.ipynb) | **Workflows:** | [lambdas](./07_lambdas.ipynb) | [CIPW](./08_CIPW_Norm.ipynb)  | [ML](./11_geochem_ML.ipynb) | [Spatial Data](./12_spatial_geochem.ipynb) |\n",
    "| -- | -- | -- | -- | -- | -- | -- | -- | -- | -- | -- | -- | -- |"
   ]
  }
 ],
 "metadata": {
  "kernelspec": {
   "display_name": "workshop-env",
   "language": "python",
   "name": "python3"
  },
  "language_info": {
   "codemirror_mode": {
    "name": "ipython",
    "version": 3
   },
   "file_extension": ".py",
   "mimetype": "text/x-python",
   "name": "python",
   "nbconvert_exporter": "python",
   "pygments_lexer": "ipython3",
   "version": "3.12.7"
  }
 },
 "nbformat": 4,
 "nbformat_minor": 4
}
