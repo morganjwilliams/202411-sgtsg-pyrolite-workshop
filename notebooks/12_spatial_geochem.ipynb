{
 "cells": [
  {
   "cell_type": "markdown",
   "id": "116f93bb-833e-4dfe-8b06-b3cd25aebf69",
   "metadata": {},
   "source": [
    "| [**Overview**](./00_overview.ipynb) | [Getting Started](./01_jupyter_python.ipynb) | **Examples:** | [Access](./02_accessing_indexing.ipynb) | [Transform](./03_transform.ipynb) | [Plotting](./04_simple_vis.ipynb) | [Norm-Spiders](./05_norm_spiders.ipynb) | [Minerals](./06_minerals.ipynb) | [lambdas](./07_lambdas.ipynb) | [CIPW](./08_CIPW_Norm.ipynb) | [Lattice Strain](./09_lattice_strain.ipynb) | **Extensions:** | [ML](./11_geochem_ML.ipynb) | [Spatial Data](./12_spatial_geochem.ipynb) |\n",
    "| -- | -- | -- | -- | -- | -- | -- | -- | -- | -- | -- | -- | -- | -- |"
   ]
  },
  {
   "cell_type": "markdown",
   "id": "26675625-cbe9-4012-abb3-1ffe27fba0e5",
   "metadata": {},
   "source": [
    "## Getting Started with Geopandas\n",
    "\n",
    "\n",
    "In this notebook we'll look at working with geochemistry in a spatial context, mainly looking at [`geopandas`](https://geopandas.org/en/stable/). We'll also look at how to bring some *simple* interactivity to your `matplotlib` figures, which could also be applied to any non-spatial case."
   ]
  },
  {
   "cell_type": "code",
   "execution_count": null,
   "id": "33079c0a-d908-4266-aa51-1f403fe2c78c",
   "metadata": {},
   "outputs": [],
   "source": [
    "import contextily as cx\n",
    "import geopandas as gpd\n",
    "import matplotlib.pyplot as plt\n",
    "import numpy as np\n",
    "import pandas as pd\n",
    "\n",
    "import pyrolite"
   ]
  },
  {
   "cell_type": "code",
   "execution_count": null,
   "id": "d766432c-3bda-4e47-961d-6f0cec350311",
   "metadata": {},
   "outputs": [],
   "source": [
    "gdf = gpd.read_file(\n",
    "    \"../data/regolith/CapricornSoilGeochem.shp\"\n",
    ")  # stores it's own coordinate system, should be in crs=\"epsg:28350\"\n",
    "gdf = gdf.loc[gdf.Easting > 0]  # drop things which don't have locations"
   ]
  },
  {
   "cell_type": "code",
   "execution_count": null,
   "id": "63f865d0-f861-40e7-aae4-5b421f4530a0",
   "metadata": {},
   "outputs": [],
   "source": [
    "gdf.crs"
   ]
  },
  {
   "cell_type": "code",
   "execution_count": null,
   "id": "0947b414-2499-4132-9fb2-f3829099fe1a",
   "metadata": {},
   "outputs": [],
   "source": [
    "gdf.columns"
   ]
  },
  {
   "cell_type": "code",
   "execution_count": null,
   "id": "4c0ff11e-8904-4e19-bdd5-164fe796c7de",
   "metadata": {},
   "outputs": [],
   "source": [
    "gdf.columns = [c.replace(\"_ppm\", \"\") for c in gdf.columns]\n",
    "gdf.columns"
   ]
  },
  {
   "cell_type": "code",
   "execution_count": null,
   "id": "2931b59e-61fe-4b15-b498-6993c325a526",
   "metadata": {},
   "outputs": [],
   "source": [
    "gdf.geometry"
   ]
  },
  {
   "cell_type": "code",
   "execution_count": null,
   "id": "f2fc19ab-fc85-4ab4-98f6-3aef342cf6e9",
   "metadata": {},
   "outputs": [],
   "source": [
    "gdf.geometry[0].x  # the x coordinate from the first point"
   ]
  },
  {
   "cell_type": "code",
   "execution_count": null,
   "id": "88435cad-0ca2-4fd1-9f2b-04ad46307fe0",
   "metadata": {},
   "outputs": [],
   "source": [
    "gdf.plot()"
   ]
  },
  {
   "cell_type": "code",
   "execution_count": null,
   "id": "d7af00b5-6d0a-4d9f-b5c6-80c88b923e93",
   "metadata": {},
   "outputs": [],
   "source": [
    "colour_by = \"Al\""
   ]
  },
  {
   "cell_type": "code",
   "execution_count": null,
   "id": "1bda96cd-c96a-4538-b691-330a64f6d9e4",
   "metadata": {},
   "outputs": [],
   "source": [
    "gdf.plot(\n",
    "    c=gdf[colour_by]\n",
    ")  # plot the data from our dataset, coloured by the column selected"
   ]
  },
  {
   "cell_type": "code",
   "execution_count": null,
   "id": "82d8b450-17a4-4728-bf3d-678f4366290d",
   "metadata": {},
   "outputs": [],
   "source": [
    "ax = gdf.plot(c=gdf[colour_by])\n",
    "plt.colorbar(ax.collections[0], label=colour_by)  # add a colourbar for the variable"
   ]
  },
  {
   "cell_type": "markdown",
   "id": "36c0f668-f089-4b80-956c-72e4a9a642f3",
   "metadata": {},
   "source": [
    "## Quick Look at the Chemistry\n",
    "\n",
    "We can have a look at how this chemistry looks like, here normalizing to an upper-continental crustal reference composition (Rudnick and Gao, 2014) and colouring by size fraction:"
   ]
  },
  {
   "cell_type": "code",
   "execution_count": null,
   "id": "74a2a6b4-abe9-426e-8efe-29983e5f7f45",
   "metadata": {},
   "outputs": [],
   "source": [
    "gdf.pyrochem.elements.apply(lambda x: np.where(x > 0, x, np.nan)).pyrochem.normalize_to(\n",
    "    \"UCC_RG2014\", units=\"ppm\"\n",
    ").pyroplot.spider(\n",
    "    figsize=(15, 8),\n",
    "    c=gdf.Size_fract.apply(lambda x: \"\" if x is None else x),\n",
    "    index_order=\"incompatibility\",\n",
    "    alpha=0.5,\n",
    "    unity_line=True,\n",
    ")"
   ]
  },
  {
   "cell_type": "markdown",
   "id": "20ad5e27-04d6-4c69-9d04-70d82f501f57",
   "metadata": {},
   "source": [
    "We can see there's a decent amount of REE data, but it doesn't look like it'll tell us much in this case (otherwise maybe we could look at e.g. `lambdas`), although maybe there are some Ce, Eu anomalies in there:"
   ]
  },
  {
   "cell_type": "code",
   "execution_count": null,
   "id": "0ce25452-5aee-480a-bfc4-64672fdf454f",
   "metadata": {},
   "outputs": [],
   "source": [
    "gdf.pyrochem.elements.apply(lambda x: np.where(x > 0, x, np.nan)).pyrochem.normalize_to(\n",
    "    \"UCC_RG2014\", units=\"ppm\"\n",
    ").pyroplot.REE(\n",
    "    c=gdf.Size_fract.apply(lambda x: \"\" if x is None else x),\n",
    "    index_order=\"incompatibility\",\n",
    "    alpha=0.5,\n",
    "    unity_line=True,\n",
    ")"
   ]
  },
  {
   "cell_type": "code",
   "execution_count": null,
   "id": "f1a11413-5c38-47d5-90f6-29cd7d3ff5c9",
   "metadata": {},
   "outputs": [],
   "source": [
    "lambdas = gdf.pyrochem.REE.apply(\n",
    "    lambda x: np.where(x > 0, x, np.nan)\n",
    ").pyrochem.lambda_lnREE(anomalies=[\"Ce\", \"Eu\"])\n",
    "lambdas.iloc[:, -2:].pyroplot.scatter(\n",
    "    c=gdf.Size_fract.apply(lambda x: \"\" if x is None else x),\n",
    ")"
   ]
  },
  {
   "cell_type": "markdown",
   "id": "73a10d1c-ca4b-41ef-8a97-79eb854fecba",
   "metadata": {},
   "source": [
    "## Looking at Geochemical PCA in Spatial Context"
   ]
  },
  {
   "cell_type": "code",
   "execution_count": null,
   "id": "839f6ff1-554b-4c8a-9fcd-03326087c48b",
   "metadata": {},
   "outputs": [],
   "source": [
    "from sklearn.decomposition import PCA\n",
    "\n",
    "n_components = 5\n",
    "pca = PCA(n_components=n_components)"
   ]
  },
  {
   "cell_type": "code",
   "execution_count": null,
   "id": "f081b5de-af1b-4c57-95b2-0493c3b62aa0",
   "metadata": {},
   "outputs": [],
   "source": [
    "input_df = (\n",
    "    gdf.drop(columns=[\"Re\"])  # ,\"Hg\", \"Te\", 'S', 'Cd', 'Ag'])\n",
    "    .pyrochem.elements.apply(\n",
    "        lambda x: np.where(x > 0, x, np.nanmin(x[x > 0] / 3))\n",
    "    )  # ~replace by third of detection limit\n",
    "    .pyrochem.normalize_to(\"UCC_RG2014\", units=\"ppm\")\n",
    "    .dropna(how=\"all\", axis=1)\n",
    "    .apply(np.log)\n",
    ")"
   ]
  },
  {
   "cell_type": "code",
   "execution_count": null,
   "id": "bcade6a7-7093-4be0-b8b8-a244f54c7966",
   "metadata": {},
   "outputs": [],
   "source": [
    "pca_scores = gpd.GeoDataFrame(\n",
    "    pca.fit_transform(input_df),\n",
    "    columns=[\"PCA{}\".format(ix) for ix in range(n_components)],\n",
    "    geometry=gdf.geometry,\n",
    "    dtype=\"float\",\n",
    ")\n",
    "pca_scores"
   ]
  },
  {
   "cell_type": "code",
   "execution_count": null,
   "id": "edb6ff9f-be57-4680-9db8-306089d0dbd3",
   "metadata": {},
   "outputs": [],
   "source": [
    "pd.DataFrame(\n",
    "    pca.components_,\n",
    "    columns=input_df.columns,\n",
    "    index=[\"PCA{}\".format(ix) for ix in range(n_components)],\n",
    "    dtype=\"float\",\n",
    ").pyroplot.spider(\n",
    "    figsize=(12, 4),\n",
    "    c=[\"PCA{}\".format(ix) for ix in range(n_components)],\n",
    "    logy=False,\n",
    "    index_order=\"incompatibility\",\n",
    ")"
   ]
  },
  {
   "cell_type": "code",
   "execution_count": null,
   "id": "e7aa09d6-9499-442b-8a3f-a68e31eff7b2",
   "metadata": {},
   "outputs": [],
   "source": [
    "from pyrolite.plot.color import process_color  # bug in geopandas colour processing?\n",
    "\n",
    "cmap = plt.get_cmap(\"cividis\").copy()\n",
    "\n",
    "fig, ax = plt.subplots(1, n_components, sharex=True, sharey=True, figsize=(15, 3))\n",
    "ax = list(ax.flat)\n",
    "for a, c in zip(ax, pca_scores.columns.tolist()):\n",
    "    a.set_title(c)\n",
    "    a = pca_scores.plot(\n",
    "        ax=a,\n",
    "        c=process_color(pca_scores[c].values, cmap=\"cividis\")[\"c\"],\n",
    "    )"
   ]
  },
  {
   "cell_type": "markdown",
   "id": "05396e44-4288-4713-b7e1-7c5c5af1d8d8",
   "metadata": {},
   "source": [
    "## Basemaps with Contextily"
   ]
  },
  {
   "cell_type": "code",
   "execution_count": null,
   "id": "f35829d4-caef-4a04-95be-52837c29cbe2",
   "metadata": {},
   "outputs": [],
   "source": [
    "ax = gdf.plot(c=gdf[colour_by])\n",
    "plt.colorbar(ax.collections[0], label=colour_by)\n",
    "cx.add_basemap(ax, crs=gdf.crs.to_string())  # add a basemap under our dataset"
   ]
  },
  {
   "cell_type": "code",
   "execution_count": null,
   "id": "5892229b-571c-4440-81c0-a535656880a8",
   "metadata": {},
   "outputs": [],
   "source": [
    "ax = gdf.plot(c=gdf[colour_by])\n",
    "plt.colorbar(ax.collections[0], label=colour_by)\n",
    "cx.add_basemap(\n",
    "    ax, crs=gdf.crs.to_string(), source=cx.providers.Esri.WorldImagery, zoom=10\n",
    ")  # add a basemap under our dataset, with the ESRI satellite imagery"
   ]
  },
  {
   "cell_type": "code",
   "execution_count": null,
   "id": "f044e357-5867-48b6-ba8c-2c60b4d3cf58",
   "metadata": {},
   "outputs": [],
   "source": [
    "%matplotlib widget\n",
    "# use an interactive backend for matplotlib\n",
    "fig, ax = plt.subplots(1, figsize=(10, 6))  # create a figure with a specific size\n",
    "\n",
    "gdf.plot(c=gdf[colour_by], marker=\"D\", ax=ax)  # plot the Al_ppm data from our dataset\n",
    "\n",
    "fig.colorbar(\n",
    "    ax.collections[0], label=colour_by, shrink=0.8\n",
    ")  # add a colourbar for the variable\n",
    "\n",
    "ax.set(\n",
    "    xlabel=\"Easting\",\n",
    "    ylabel=\"Northing\",\n",
    "    aspect=\"equal\",\n",
    "    xlim=(125000, 800000),\n",
    "    ylim=(7.1e6, 7.65e6),\n",
    ")\n",
    "# modify some of the axis defaults, expand so we have broader context\n",
    "\n",
    "cx.add_basemap(\n",
    "    ax,\n",
    "    crs=gdf.crs.to_string(),\n",
    "    source=cx.providers.Esri.WorldImagery,\n",
    "    zoom=10,\n",
    "    attribution=False,\n",
    ")  # add a basemap under our dataset"
   ]
  },
  {
   "cell_type": "markdown",
   "id": "1effa812-23af-45cb-acc7-d9650429e913",
   "metadata": {},
   "source": [
    "## Exporting for External Use"
   ]
  },
  {
   "cell_type": "markdown",
   "id": "54221e9b-0232-42ba-8054-9b52a6a32efc",
   "metadata": {},
   "source": [
    "You can easily re-export the data to the original format (here, `shapefile`), or instead export to something less-platform dependent/open like `geopackage` (a single file with spatial information, instead of multiple for `.shp`):"
   ]
  },
  {
   "cell_type": "code",
   "execution_count": null,
   "id": "4117de66-dacd-4cfc-9978-b7041b41ce8a",
   "metadata": {},
   "outputs": [],
   "source": [
    "gdf.to_file(\"../data/regolith/processed_soil_geochem.shp\")"
   ]
  },
  {
   "cell_type": "code",
   "execution_count": null,
   "id": "74ac6b2a-783a-4e63-837f-49ebf48f26c2",
   "metadata": {},
   "outputs": [],
   "source": [
    "gdf.to_file(\"../data/regolith/processed_soil_geochem.gpkg\")"
   ]
  },
  {
   "cell_type": "markdown",
   "id": "f36cab57-dfe9-4dd8-9036-d9ea068ba6c1",
   "metadata": {},
   "source": [
    "You could download these and open them in e.g. QGIS."
   ]
  },
  {
   "cell_type": "markdown",
   "id": "794c6706-6776-45f5-8d34-3a3732ce84b5",
   "metadata": {},
   "source": [
    "--- \n",
    "\n",
    "| [**Overview**](./00_overview.ipynb) | [Getting Started](./01_jupyter_python.ipynb) | **Examples:** | [Access](./02_accessing_indexing.ipynb) | [Transform](./03_transform.ipynb) | [Plotting](./04_simple_vis.ipynb) | [Norm-Spiders](./05_norm_spiders.ipynb) | [Minerals](./06_minerals.ipynb) | [lambdas](./07_lambdas.ipynb) | [CIPW](./08_CIPW_Norm.ipynb) | [Lattice Strain](./09_lattice_strain.ipynb) | **Extensions:** | [ML](./11_geochem_ML.ipynb) | [Spatial Data](./12_spatial_geochem.ipynb) |\n",
    "| -- | -- | -- | -- | -- | -- | -- | -- | -- | -- | -- | -- | -- | -- |"
   ]
  }
 ],
 "metadata": {
  "kernelspec": {
   "display_name": "im4nis",
   "language": "python",
   "name": "python3"
  },
  "language_info": {
   "codemirror_mode": {
    "name": "ipython",
    "version": 3
   },
   "file_extension": ".py",
   "mimetype": "text/x-python",
   "name": "python",
   "nbconvert_exporter": "python",
   "pygments_lexer": "ipython3",
   "version": "3.10.14"
  }
 },
 "nbformat": 4,
 "nbformat_minor": 5
}
