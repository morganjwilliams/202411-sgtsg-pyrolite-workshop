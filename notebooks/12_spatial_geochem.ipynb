{
 "cells": [
  {
   "cell_type": "markdown",
   "id": "116f93bb-833e-4dfe-8b06-b3cd25aebf69",
   "metadata": {},
   "source": [
    "| [**Overview**](./00_overview.ipynb) | [Getting Started](./01_jupyter_python.ipynb) | **Examples:** | [Access](./02_accessing_indexing.ipynb) | [Transform](./03_transform.ipynb) | [Plotting](./04_simple_vis.ipynb) | [Norm-Spiders](./05_norm_spiders.ipynb) | [Minerals](./06_minerals.ipynb) | **Workflows:** | [lambdas](./07_lambdas.ipynb) | [CIPW](./08_CIPW_Norm.ipynb)  | [ML](./11_geochem_ML.ipynb) | [Spatial Data](./12_spatial_geochem.ipynb) |\n",
    "| -- | -- | -- | -- | -- | -- | -- | -- | -- | -- | -- | -- | -- |"
   ]
  },
  {
   "cell_type": "markdown",
   "id": "26675625-cbe9-4012-abb3-1ffe27fba0e5",
   "metadata": {},
   "source": [
    "## Getting Started with Geopandas\n",
    "\n",
    "\n",
    "In this notebook we'll look at working with geochemistry in a spatial context, mainly looking at [`geopandas`](https://geopandas.org/en/stable/). We'll also look at how to bring some *simple* interactivity to your `matplotlib` figures, which could also be applied to any non-spatial case.\n",
    "\n",
    "For this example, we'll use a legacy laterite geochemistry dataset with citation below, which is available via the CSIRO Data Access Portal (DAP):\n",
    "\n",
    "> Smith, Ray (1987): Laterite geochemistry in the CSIRO-AGE Database - Legacy data. v1. CSIRO. Data Collection. \n",
    "https://doi.org/10.25919/9dsm-wr21\n",
    "\n",
    "See [the README]([../data/laterites/README.md]) for more on this dataset."
   ]
  },
  {
   "cell_type": "code",
   "execution_count": null,
   "id": "33079c0a-d908-4266-aa51-1f403fe2c78c",
   "metadata": {},
   "outputs": [],
   "source": [
    "import contextily as cx\n",
    "import geopandas as gpd\n",
    "import matplotlib.pyplot as plt\n",
    "import numpy as np\n",
    "import pandas as pd\n",
    "\n",
    "import pyrolite\n",
    "\n",
    "df = pd.read_excel(\"../data/laterites/laterites.xlsx\").set_index(\"SampNo\")\n",
    "df.head()"
   ]
  },
  {
   "cell_type": "markdown",
   "id": "a44a0c90",
   "metadata": {},
   "source": [
    "I've cleaned up this dataframe from it's original form slightly - but there are still some things to clean up (a good example of what that involves!) - below we go through the column names and pull out the element and unit component for things in the form `Zr_ppm` - so we can rescale everything to the same units (not always required, but often useful). We also make sure the `DATE` column refers to a numerical value - in this case a geological age:"
   ]
  },
  {
   "cell_type": "code",
   "execution_count": null,
   "id": "d2bce5ac",
   "metadata": {},
   "outputs": [],
   "source": [
    "from pyrolite.util.units import scale\n",
    "\n",
    "mapping = {\n",
    "    c: {\"element\": c.split(\"_\")[0], \"unit\": c.split(\"_\")[0].lower()}\n",
    "    for c in df.columns\n",
    "    if \"_\" in c\n",
    "}\n",
    "scales = {c: scale(d[\"unit\"], \"wt%\") for c, d in mapping.items()}\n",
    "\n",
    "# rescale the values\n",
    "for c, v in scales.items():\n",
    "    df[c] *= v\n",
    "\n",
    "# rename the columns\n",
    "df = df.rename(columns={c: d[\"element\"] for c, d in mapping.items()})\n",
    "\n",
    "df[\"DATE\"] = df[\"DATE\"].apply(pd.to_numeric, errors=\"coerce\")"
   ]
  },
  {
   "cell_type": "markdown",
   "id": "375476bc",
   "metadata": {},
   "source": [
    "Now we've cleaned up the dataframe, we can look at putting into a `geopandas.GeoDataFrame` - which adds some spatial-specific capability, where we can define the geometry of what's in the table:"
   ]
  },
  {
   "cell_type": "code",
   "execution_count": null,
   "id": "e885d00c",
   "metadata": {},
   "outputs": [],
   "source": [
    "gdf = gpd.GeoDataFrame(\n",
    "    df.drop(columns=[\"LATITUDE\", \"LONGITUDE\"]),\n",
    "    geometry=gpd.points_from_xy(df[\"LONGITUDE\"], df[\"LATITUDE\"]),\n",
    "    crs=\"WGS84\",  # lat-long\n",
    ")"
   ]
  },
  {
   "cell_type": "markdown",
   "id": "9be0873a",
   "metadata": {},
   "source": [
    "We can observe that the Coordinate Refernence System (CRS) is stored on the dataframe:"
   ]
  },
  {
   "cell_type": "code",
   "execution_count": null,
   "id": "63f865d0-f861-40e7-aae4-5b421f4530a0",
   "metadata": {},
   "outputs": [],
   "source": [
    "gdf.crs"
   ]
  },
  {
   "cell_type": "markdown",
   "id": "b77f81cf",
   "metadata": {},
   "source": [
    "When looking at the columns, we can also see that there's an extra one - `geometry` (it's *special*):"
   ]
  },
  {
   "cell_type": "code",
   "execution_count": null,
   "id": "0947b414-2499-4132-9fb2-f3829099fe1a",
   "metadata": {},
   "outputs": [],
   "source": [
    "gdf.columns"
   ]
  },
  {
   "cell_type": "markdown",
   "id": "0631e67c",
   "metadata": {},
   "source": [
    "We can see that this contains our lat-long coordinates:"
   ]
  },
  {
   "cell_type": "code",
   "execution_count": null,
   "id": "2931b59e-61fe-4b15-b498-6993c325a526",
   "metadata": {},
   "outputs": [],
   "source": [
    "gdf.geometry"
   ]
  },
  {
   "cell_type": "code",
   "execution_count": null,
   "id": "f2fc19ab-fc85-4ab4-98f6-3aef342cf6e9",
   "metadata": {},
   "outputs": [],
   "source": [
    "gdf.geometry.iloc[0].x  # the x coordinate from the first point"
   ]
  },
  {
   "cell_type": "markdown",
   "id": "98369841",
   "metadata": {},
   "source": [
    "All of this enables some handy API shortcuts - where e.g. `.plot()` defaults to a spatial form:"
   ]
  },
  {
   "cell_type": "code",
   "execution_count": null,
   "id": "88435cad-0ca2-4fd1-9f2b-04ad46307fe0",
   "metadata": {},
   "outputs": [],
   "source": [
    "gdf.plot()"
   ]
  },
  {
   "cell_type": "markdown",
   "id": "d7af00b5-6d0a-4d9f-b5c6-80c88b923e93",
   "metadata": {},
   "source": [
    "We can pass optional parameters to get more out of this default plot:"
   ]
  },
  {
   "cell_type": "code",
   "execution_count": null,
   "id": "1bda96cd-c96a-4538-b691-330a64f6d9e4",
   "metadata": {},
   "outputs": [],
   "source": [
    "colour_by = \"Fe2O3\"\n",
    "# plot the data from our dataset, coloured by the column selected\n",
    "ax = gdf.plot(c=gdf[colour_by])\n",
    "plt.colorbar(ax.collections[0], label=colour_by)  # add a colourbar for the variable\n"
   ]
  },
  {
   "cell_type": "markdown",
   "id": "36c0f668-f089-4b80-956c-72e4a9a642f3",
   "metadata": {},
   "source": [
    "## Quick Look at the Chemistry\n",
    "\n",
    "We can have a look at how this chemistry looks like, here normalizing to an upper-continental crustal reference composition (Rudnick and Gao, 2014) and colouring by the age class:"
   ]
  },
  {
   "cell_type": "code",
   "execution_count": null,
   "id": "74a2a6b4-abe9-426e-8efe-29983e5f7f45",
   "metadata": {},
   "outputs": [],
   "source": [
    "gdf[~pd.isna(gdf.AGE3)].pyrochem.elements.pyrochem.normalize_to(\n",
    "    \"UCC_RG2014\", units=\"ppm\"\n",
    ").pyroplot.spider(\n",
    "    figsize=(15, 8),\n",
    "    c=gdf.AGE3[~pd.isna(gdf.AGE3)],\n",
    "    index_order=\"incompatibility\",\n",
    "    alpha=0.5,\n",
    "    unity_line=True,\n",
    ")"
   ]
  },
  {
   "cell_type": "markdown",
   "id": "73a10d1c-ca4b-41ef-8a97-79eb854fecba",
   "metadata": {},
   "source": [
    "## Looking at Geochemical PCA in Spatial Context"
   ]
  },
  {
   "cell_type": "code",
   "execution_count": null,
   "id": "839f6ff1-554b-4c8a-9fcd-03326087c48b",
   "metadata": {},
   "outputs": [],
   "source": [
    "from sklearn.decomposition import PCA\n",
    "\n",
    "n_components = 5\n",
    "pca = PCA(n_components=n_components)"
   ]
  },
  {
   "cell_type": "code",
   "execution_count": null,
   "id": "f081b5de-af1b-4c57-95b2-0493c3b62aa0",
   "metadata": {},
   "outputs": [],
   "source": [
    "input_df = (\n",
    "    gdf.pyrochem.elements.apply(\n",
    "        lambda x: np.where(x > 0, x, np.nanmin(x[x > 0] / 3))\n",
    "    )  # ~replace by third of detection limit\n",
    "    .pyrochem.normalize_to(\"UCC_RG2014\", units=\"ppm\")\n",
    "    .dropna(how=\"all\", axis=1)\n",
    "    .apply(np.log)\n",
    ")"
   ]
  },
  {
   "cell_type": "code",
   "execution_count": null,
   "id": "bcade6a7-7093-4be0-b8b8-a244f54c7966",
   "metadata": {},
   "outputs": [],
   "source": [
    "pca_scores = gpd.GeoDataFrame(\n",
    "    pca.fit_transform(input_df),\n",
    "    columns=[\"PCA{}\".format(ix) for ix in range(n_components)],\n",
    "    geometry=gdf.geometry.values,\n",
    "    dtype=\"float\",\n",
    ")\n",
    "pca_scores"
   ]
  },
  {
   "cell_type": "code",
   "execution_count": null,
   "id": "edb6ff9f-be57-4680-9db8-306089d0dbd3",
   "metadata": {},
   "outputs": [],
   "source": [
    "pd.DataFrame(\n",
    "    pca.components_,\n",
    "    columns=input_df.columns,\n",
    "    index=[\"PCA{}\".format(ix) for ix in range(n_components)],\n",
    "    dtype=\"float\",\n",
    ").pyroplot.spider(\n",
    "    figsize=(12, 4),\n",
    "    c=[\"PCA{}\".format(ix) for ix in range(n_components)],\n",
    "    logy=False,\n",
    "    index_order=\"incompatibility\",\n",
    ")"
   ]
  },
  {
   "cell_type": "code",
   "execution_count": null,
   "id": "e7aa09d6-9499-442b-8a3f-a68e31eff7b2",
   "metadata": {},
   "outputs": [],
   "source": [
    "from pyrolite.plot.color import process_color  # bug in geopandas colour processing?\n",
    "\n",
    "cmap = plt.get_cmap(\"cividis\").copy()\n",
    "\n",
    "fig, ax = plt.subplots(1, n_components, sharex=True, sharey=True, figsize=(15, 3))\n",
    "ax = list(ax.flat)\n",
    "for a, c in zip(ax, pca_scores.columns.tolist()):\n",
    "    a.set_title(c)\n",
    "    a = pca_scores.plot(\n",
    "        ax=a,\n",
    "        c=process_color(pca_scores[c].values, cmap=\"cividis\")[\"c\"],\n",
    "    )\n",
    "plt.tight_layout()"
   ]
  },
  {
   "cell_type": "markdown",
   "id": "05396e44-4288-4713-b7e1-7c5c5af1d8d8",
   "metadata": {},
   "source": [
    "## Adding Basemaps with Contextily"
   ]
  },
  {
   "cell_type": "code",
   "execution_count": null,
   "id": "f35829d4-caef-4a04-95be-52837c29cbe2",
   "metadata": {},
   "outputs": [],
   "source": [
    "ax = gdf.plot(c=gdf[colour_by])\n",
    "plt.colorbar(ax.collections[0], label=colour_by)\n",
    "# add a basemap under our dataset\n",
    "cx.add_basemap(ax, crs=gdf.crs.to_string())"
   ]
  },
  {
   "cell_type": "code",
   "execution_count": null,
   "id": "5892229b-571c-4440-81c0-a535656880a8",
   "metadata": {},
   "outputs": [],
   "source": [
    "%matplotlib widget\n",
    "\n",
    "ax = gdf.plot(c=gdf[colour_by], figsize=(6, 12))\n",
    "plt.colorbar(ax.collections[0], label=colour_by, shrink=0.5)\n",
    "# add a basemap under our dataset, with the ESRI satellite imagery\n",
    "cx.add_basemap(ax, crs=gdf.crs.to_string(), source=cx.providers.Esri.WorldImagery)\n",
    "plt.show()"
   ]
  },
  {
   "cell_type": "markdown",
   "id": "1effa812-23af-45cb-acc7-d9650429e913",
   "metadata": {},
   "source": [
    "## Exporting for External Use"
   ]
  },
  {
   "cell_type": "markdown",
   "id": "54221e9b-0232-42ba-8054-9b52a6a32efc",
   "metadata": {},
   "source": [
    "You can easily re-export the data to the original format (here, `shapefile`), or instead export to something less-platform dependent/open like `geopackage` (a single file with spatial information, instead of multiple for `.shp`):"
   ]
  },
  {
   "cell_type": "code",
   "execution_count": null,
   "id": "4117de66-dacd-4cfc-9978-b7041b41ce8a",
   "metadata": {},
   "outputs": [],
   "source": [
    "gdf.to_file(\"../data/laterites/processed_laterites.shp\")"
   ]
  },
  {
   "cell_type": "code",
   "execution_count": null,
   "id": "74ac6b2a-783a-4e63-837f-49ebf48f26c2",
   "metadata": {},
   "outputs": [],
   "source": [
    "gdf.to_file(\"../data/laterites/processed_laterites.gpkg\")"
   ]
  },
  {
   "cell_type": "markdown",
   "id": "f36cab57-dfe9-4dd8-9036-d9ea068ba6c1",
   "metadata": {},
   "source": [
    "You could download these and open them in e.g. QGIS."
   ]
  },
  {
   "cell_type": "markdown",
   "id": "794c6706-6776-45f5-8d34-3a3732ce84b5",
   "metadata": {},
   "source": [
    "| [**Overview**](./00_overview.ipynb) | [Getting Started](./01_jupyter_python.ipynb) | **Examples:** | [Access](./02_accessing_indexing.ipynb) | [Transform](./03_transform.ipynb) | [Plotting](./04_simple_vis.ipynb) | [Norm-Spiders](./05_norm_spiders.ipynb) | [Minerals](./06_minerals.ipynb) | **Workflows:** | [lambdas](./07_lambdas.ipynb) | [CIPW](./08_CIPW_Norm.ipynb)  | [ML](./11_geochem_ML.ipynb) | [Spatial Data](./12_spatial_geochem.ipynb) |\n",
    "| -- | -- | -- | -- | -- | -- | -- | -- | -- | -- | -- | -- | -- |"
   ]
  }
 ],
 "metadata": {
  "kernelspec": {
   "display_name": "workshop-env",
   "language": "python",
   "name": "python3"
  },
  "language_info": {
   "codemirror_mode": {
    "name": "ipython",
    "version": 3
   },
   "file_extension": ".py",
   "mimetype": "text/x-python",
   "name": "python",
   "nbconvert_exporter": "python",
   "pygments_lexer": "ipython3",
   "version": "3.12.7"
  }
 },
 "nbformat": 4,
 "nbformat_minor": 5
}
