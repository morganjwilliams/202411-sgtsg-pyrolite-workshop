{
 "cells": [
  {
   "cell_type": "markdown",
   "metadata": {},
   "source": [
    "| [**Overview**](./00_overview.ipynb) | [Getting Started](./01_jupyter_python.ipynb) | **Examples:** | [Access](./02_accessing_indexing.ipynb) | [Transform](./03_transform.ipynb) | [Plotting](./04_simple_vis.ipynb) | [Norm-Spiders](./05_norm_spiders.ipynb) | [Minerals](./06_minerals.ipynb) | **Workflows:** | [lambdas](./07_lambdas.ipynb) | [CIPW](./08_CIPW_Norm.ipynb)  | [ML](./11_geochem_ML.ipynb) | [Spatial Data](./12_spatial_geochem.ipynb) |\n",
    "| -- | -- | -- | -- | -- | -- | -- | -- | -- | -- | -- | -- | -- |\n",
    "\n",
    "# Working with Mineral Composition Data\n",
    "\n",
    "\n",
    "### Mineral Database\n",
    "pyrolite includes a limited mineral database which is useful for looking up endmember compositions."
   ]
  },
  {
   "cell_type": "code",
   "execution_count": null,
   "metadata": {
    "collapsed": false,
    "jupyter": {
     "outputs_hidden": false
    }
   },
   "outputs": [],
   "source": [
    "import pandas as pd\n",
    "import matplotlib.pyplot as plt\n",
    "from pyrolite.mineral.mindb import (\n",
    "    list_groups,\n",
    "    list_minerals,\n",
    "    list_formulae,\n",
    "    get_mineral,\n",
    "    get_mineral_group,\n",
    ")\n",
    "\n",
    "pd.options.display.precision = 3  # smaller graphical outputs"
   ]
  },
  {
   "cell_type": "markdown",
   "metadata": {},
   "source": [
    "From the database, you can get the list of its contents using a few utility\n",
    "functions:\n",
    "\n"
   ]
  },
  {
   "cell_type": "code",
   "execution_count": null,
   "metadata": {
    "collapsed": false,
    "jupyter": {
     "outputs_hidden": false
    }
   },
   "outputs": [],
   "source": [
    "list_groups()"
   ]
  },
  {
   "cell_type": "code",
   "execution_count": null,
   "metadata": {
    "collapsed": false,
    "jupyter": {
     "outputs_hidden": false
    }
   },
   "outputs": [],
   "source": [
    "\", \".join(\n",
    "    list_minerals()\n",
    ")  # string the list of minerals together so we can print it succinctly"
   ]
  },
  {
   "cell_type": "code",
   "execution_count": null,
   "metadata": {
    "collapsed": false,
    "jupyter": {
     "outputs_hidden": false
    }
   },
   "outputs": [],
   "source": [
    "\", \".join(\n",
    "    list_formulae()\n",
    ")  # string the list of minerals formulae so we can print it succinctly"
   ]
  },
  {
   "cell_type": "markdown",
   "metadata": {},
   "source": [
    "You can also directly get the composition of specific minerals by name. These will be a `pd.Series` of elemental Wt% data (although derived from the formuale directly), and normalised to 100%:"
   ]
  },
  {
   "cell_type": "code",
   "execution_count": null,
   "metadata": {
    "collapsed": false,
    "jupyter": {
     "outputs_hidden": false
    }
   },
   "outputs": [],
   "source": [
    "get_mineral(\"forsterite\")"
   ]
  },
  {
   "cell_type": "markdown",
   "metadata": {},
   "source": [
    "If you want to get compositions for all minerals within a specific group, you can\n",
    "use `get_mineral_group`:\n",
    "\n"
   ]
  },
  {
   "cell_type": "code",
   "execution_count": null,
   "metadata": {
    "collapsed": false,
    "jupyter": {
     "outputs_hidden": false
    }
   },
   "outputs": [],
   "source": [
    "get_mineral_group(\"olivine\")"
   ]
  },
  {
   "cell_type": "markdown",
   "metadata": {},
   "source": [
    "In some cases, these might give some useful reference points for comparing your mineral or whole-rock data to:"
   ]
  },
  {
   "cell_type": "code",
   "execution_count": null,
   "metadata": {},
   "outputs": [],
   "source": [
    "px_comps = get_mineral_group(\"pyroxene\").pyrochem.convert_chemistry(\n",
    "    to=[\"MgO\", \"SiO2\", \"CaO\", \"FeO\", \"MnO\", \"Al2O3\", \"Na2O\"]\n",
    ")\n",
    "px_comps.iloc[:, 2:] = (\n",
    "    px_comps.iloc[:, 2:].fillna(0) * 100\n",
    ")  # pyroxene compositions as Wt% oxides\n",
    "ax = px_comps[[\"CaO\", \"MgO\"]].pyroplot.scatter(c=\"k\", s=10)"
   ]
  },
  {
   "cell_type": "markdown",
   "metadata": {},
   "source": [
    "If you wanted to, you could also label these (noting there's some overlap, we here join the names for each point):"
   ]
  },
  {
   "cell_type": "code",
   "execution_count": null,
   "metadata": {},
   "outputs": [],
   "source": [
    "from collections import defaultdict\n",
    "\n",
    "ax = px_comps[[\"CaO\", \"MgO\"]].pyroplot.scatter(c=\"k\", s=10)\n",
    "# round to 0 to account for *nearly* overlapping points\n",
    "_points = px_comps.round(0).set_index([\"CaO\", \"MgO\"])\n",
    "for position in _points.index.unique():\n",
    "    minerals = _points.loc[position]\n",
    "    ax.annotate(\n",
    "        \"\\n\".join(minerals[\"name\"]),\n",
    "        xy=position,\n",
    "        xytext=(5, 0),\n",
    "        textcoords=\"offset points\",\n",
    "        va=\"bottom\",\n",
    "    )\n"
   ]
  },
  {
   "cell_type": "code",
   "execution_count": null,
   "metadata": {},
   "outputs": [],
   "source": [
    "get_mineral_group(\"pyroxene\")"
   ]
  },
  {
   "cell_type": "code",
   "execution_count": null,
   "metadata": {},
   "outputs": [],
   "source": [
    "px_comps[[\"CaO\", \"MgO\", \"Al2O3\"]].pyroplot.scatter(\n",
    "    c=\"r\", marker=\"o\", s=150, zorder=10, facecolors=\"none\"\n",
    ")\n"
   ]
  },
  {
   "cell_type": "markdown",
   "metadata": {},
   "source": [
    "----\n",
    "**Optional:** Check out some of the other minerals and mineral groups."
   ]
  },
  {
   "cell_type": "code",
   "execution_count": null,
   "metadata": {},
   "outputs": [],
   "source": [
    "from pyrolite.mineral.mindb import get_mineral_group, list_groups, list_minerals\n",
    "\n",
    "list_groups()"
   ]
  },
  {
   "cell_type": "code",
   "execution_count": null,
   "metadata": {},
   "outputs": [],
   "source": [
    "get_mineral_group('olivine')"
   ]
  },
  {
   "cell_type": "markdown",
   "metadata": {},
   "source": [
    "----\n",
    "<div class='alert alert-warning'> <font size=\"+1\" color=\"black\"><b> Checkpoint & Time Check</b><br>How are things going?</font></div>\n",
    "\n",
    "\n",
    "<div class='alert alert-success'><font size=\"+1\" color=\"black\"><b>We made it to the end of the core <code>pyrolite</code> section - there are a few 'workflow' notebooks to have a look at though! </b></font> </div>\n",
    "\n",
    "----"
   ]
  },
  {
   "cell_type": "markdown",
   "metadata": {},
   "source": [
    "| [**Overview**](./00_overview.ipynb) | [Getting Started](./01_jupyter_python.ipynb) | **Examples:** | [Access](./02_accessing_indexing.ipynb) | [Transform](./03_transform.ipynb) | [Plotting](./04_simple_vis.ipynb) | [Norm-Spiders](./05_norm_spiders.ipynb) | [Minerals](./06_minerals.ipynb) | **Workflows:** | [lambdas](./07_lambdas.ipynb) | [CIPW](./08_CIPW_Norm.ipynb)  | [ML](./11_geochem_ML.ipynb) | [Spatial Data](./12_spatial_geochem.ipynb) |\n",
    "| -- | -- | -- | -- | -- | -- | -- | -- | -- | -- | -- | -- | -- |"
   ]
  }
 ],
 "metadata": {
  "kernelspec": {
   "display_name": "workshop-env",
   "language": "python",
   "name": "python3"
  },
  "language_info": {
   "codemirror_mode": {
    "name": "ipython",
    "version": 3
   },
   "file_extension": ".py",
   "mimetype": "text/x-python",
   "name": "python",
   "nbconvert_exporter": "python",
   "pygments_lexer": "ipython3",
   "version": "3.12.7"
  }
 },
 "nbformat": 4,
 "nbformat_minor": 4
}
