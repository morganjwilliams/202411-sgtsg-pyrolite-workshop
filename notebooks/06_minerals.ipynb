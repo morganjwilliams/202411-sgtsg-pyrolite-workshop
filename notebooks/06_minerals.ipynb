{
 "cells": [
  {
   "cell_type": "markdown",
   "metadata": {},
   "source": [
    "| [**Overview**](./00_overview.ipynb) | [Getting Started](./01_jupyter_python.ipynb) | **Examples:** | [Access](./02_accessing_indexing.ipynb) | [Transform](./03_transform.ipynb) | [Plotting](./04_simple_vis.ipynb) | [Norm-Spiders](./05_norm_spiders.ipynb) | [Minerals](./06_minerals.ipynb) | [lambdas](./07_lambdas.ipynb) | [CIPW](./08_CIPW_Norm.ipynb)  | **Extensions:** | [ML](./11_geochem_ML.ipynb) | [Spatial Data](./12_spatial_geochem.ipynb) |\n",
    "| -- | -- | -- | -- | -- | -- | -- | -- | -- | -- | -- | -- | -- |\n",
    "\n",
    "# Working with Mineral Composition Data\n",
    "\n",
    "\n",
    "### Mineral Database\n",
    "pyrolite includes a limited mineral database which is useful for looking up endmember compositions."
   ]
  },
  {
   "cell_type": "code",
   "execution_count": null,
   "metadata": {
    "collapsed": false,
    "jupyter": {
     "outputs_hidden": false
    }
   },
   "outputs": [],
   "source": [
    "import pandas as pd\n",
    "import matplotlib.pyplot as plt\n",
    "from pyrolite.mineral.mindb import (\n",
    "    list_groups,\n",
    "    list_minerals,\n",
    "    list_formulae,\n",
    "    get_mineral,\n",
    "    get_mineral_group,\n",
    ")\n",
    "\n",
    "pd.options.display.precision = 3  # smaller graphical outputs"
   ]
  },
  {
   "cell_type": "markdown",
   "metadata": {},
   "source": [
    "From the database, you can get the list of its contents using a few utility\n",
    "functions:\n",
    "\n"
   ]
  },
  {
   "cell_type": "code",
   "execution_count": null,
   "metadata": {
    "collapsed": false,
    "jupyter": {
     "outputs_hidden": false
    }
   },
   "outputs": [],
   "source": [
    "list_groups()"
   ]
  },
  {
   "cell_type": "code",
   "execution_count": null,
   "metadata": {
    "collapsed": false,
    "jupyter": {
     "outputs_hidden": false
    }
   },
   "outputs": [],
   "source": [
    "\", \".join(\n",
    "    list_minerals()\n",
    ")  # string the list of minerals together so we can print it succinctly"
   ]
  },
  {
   "cell_type": "code",
   "execution_count": null,
   "metadata": {
    "collapsed": false,
    "jupyter": {
     "outputs_hidden": false
    }
   },
   "outputs": [],
   "source": [
    "\", \".join(\n",
    "    list_formulae()\n",
    ")  # string the list of minerals formulae so we can print it succinctly"
   ]
  },
  {
   "cell_type": "markdown",
   "metadata": {},
   "source": [
    "You can also directly get the composition of specific minerals by name. These will be a `pd.Series` of elemental Wt% data (although derived from the formuale directly), and normalised to 100%:"
   ]
  },
  {
   "cell_type": "code",
   "execution_count": null,
   "metadata": {
    "collapsed": false,
    "jupyter": {
     "outputs_hidden": false
    }
   },
   "outputs": [],
   "source": [
    "get_mineral(\"forsterite\")"
   ]
  },
  {
   "cell_type": "markdown",
   "metadata": {},
   "source": [
    "If you want to get compositions for all minerals within a specific group, you can\n",
    "use `get_mineral_group`:\n",
    "\n"
   ]
  },
  {
   "cell_type": "code",
   "execution_count": null,
   "metadata": {
    "collapsed": false,
    "jupyter": {
     "outputs_hidden": false
    }
   },
   "outputs": [],
   "source": [
    "get_mineral_group(\"olivine\")"
   ]
  },
  {
   "cell_type": "markdown",
   "metadata": {},
   "source": [
    "In some cases, these might give some useful reference points for comparing your mineral or whole-rock data to:"
   ]
  },
  {
   "cell_type": "code",
   "execution_count": null,
   "metadata": {},
   "outputs": [],
   "source": [
    "px_comps = get_mineral_group(\"pyroxene\").pyrochem.convert_chemistry(\n",
    "    to=[\"MgO\", \"SiO2\", \"CaO\", \"FeO\", \"MnO\", \"Al2O3\", \"Na2O\"]\n",
    ")\n",
    "px_comps.iloc[:, 2:] = (\n",
    "    px_comps.iloc[:, 2:].fillna(0) * 100\n",
    ")  # pyroxene compositions as Wt% oxides\n",
    "ax = px_comps[[\"CaO\", \"MgO\"]].pyroplot.scatter(c=\"k\", s=10)"
   ]
  },
  {
   "cell_type": "markdown",
   "metadata": {},
   "source": [
    "If you wanted to, you could also label these (noting there's some overlap to later deal with..):"
   ]
  },
  {
   "cell_type": "code",
   "execution_count": null,
   "metadata": {},
   "outputs": [],
   "source": [
    "ax = px_comps[[\"CaO\", \"MgO\"]].pyroplot.scatter(c=\"k\", s=10)\n",
    "for ix, row in px_comps.iterrows():\n",
    "    ax.annotate(\n",
    "        row[\"name\"], xy=(row[[\"CaO\", \"MgO\"]]), xytext=(5, 5), textcoords=\"offset points\"\n",
    "    )"
   ]
  },
  {
   "cell_type": "code",
   "execution_count": null,
   "metadata": {},
   "outputs": [],
   "source": [
    "get_mineral_group(\"pyroxene\")"
   ]
  },
  {
   "cell_type": "code",
   "execution_count": null,
   "metadata": {},
   "outputs": [],
   "source": []
  },
  {
   "cell_type": "code",
   "execution_count": null,
   "metadata": {},
   "outputs": [],
   "source": [
    "px_comps[[\"CaO\", \"MgO\", \"Al2O3\"]].pyroplot.scatter(c=\"k\", marker=\"o\", s=100, zorder=10)"
   ]
  },
  {
   "cell_type": "markdown",
   "metadata": {},
   "source": [
    "### Mineral Endmember Decomposition\n",
    "\n",
    "A common task when working with mineral chemistry data is to take measured compositions\n",
    "and decompose these into relative proportions of mineral endmember compositions.\n",
    "pyrolite includes some utilities to achieve this and a limited mineral database\n",
    "for looking up endmember compositions."
   ]
  },
  {
   "cell_type": "code",
   "execution_count": null,
   "metadata": {
    "collapsed": false,
    "jupyter": {
     "outputs_hidden": false
    }
   },
   "outputs": [],
   "source": [
    "import pandas as pd\n",
    "import numpy as np\n",
    "from pyrolite.mineral.mindb import get_mineral\n",
    "from pyrolite.mineral.normative import endmember_decompose"
   ]
  },
  {
   "cell_type": "markdown",
   "metadata": {},
   "source": [
    "First we'll start with a composition of an unknown olivine:\n",
    "\n",
    "\n"
   ]
  },
  {
   "cell_type": "code",
   "execution_count": null,
   "metadata": {
    "collapsed": false,
    "jupyter": {
     "outputs_hidden": false
    }
   },
   "outputs": [],
   "source": [
    "comp = pd.Series({\"MgO\": 42.06, \"SiO2\": 39.19, \"FeO\": 18.75})\n",
    "df = pd.DataFrame(\n",
    "    [comp, comp]\n",
    ")  # a dataframe with this composition twice, to illustrate what you might do with a table of olivine compositions"
   ]
  },
  {
   "cell_type": "markdown",
   "metadata": {},
   "source": [
    "We can break this down into olivine endmebmers using the\n",
    "`endmember_decompose` function:"
   ]
  },
  {
   "cell_type": "code",
   "execution_count": null,
   "metadata": {
    "collapsed": false,
    "jupyter": {
     "outputs_hidden": false
    }
   },
   "outputs": [],
   "source": [
    "ed = endmember_decompose(df, endmembers=\"olivine\", order=1, molecular=True)\n",
    "ed"
   ]
  },
  {
   "cell_type": "markdown",
   "metadata": {},
   "source": [
    "Equally, if you knew the likely endmembers beforehand, you could specify a list of\n",
    "endmembers:\n",
    "\n",
    "\n"
   ]
  },
  {
   "cell_type": "code",
   "execution_count": null,
   "metadata": {
    "collapsed": false,
    "jupyter": {
     "outputs_hidden": false
    }
   },
   "outputs": [],
   "source": [
    "ed = endmember_decompose(\n",
    "    df, endmembers=[\"forsterite\", \"fayalite\"], order=1, molecular=True\n",
    ")\n",
    "ed"
   ]
  },
  {
   "cell_type": "markdown",
   "metadata": {},
   "source": [
    "We can check this by recombining the components with these proportions. We can first\n",
    "lookup the compositions for our endmembers:\n",
    "\n",
    "\n"
   ]
  },
  {
   "cell_type": "code",
   "execution_count": null,
   "metadata": {
    "collapsed": false,
    "jupyter": {
     "outputs_hidden": false
    }
   },
   "outputs": [],
   "source": [
    "em = pd.DataFrame(\n",
    "    [get_mineral(\"forsterite\"), get_mineral(\"fayalite\")]\n",
    ")  # build a dataframe of our endmembers\n",
    "em"
   ]
  },
  {
   "cell_type": "code",
   "execution_count": null,
   "metadata": {},
   "outputs": [],
   "source": [
    "em.loc[:, ~(em == 0).all(axis=0)]  # get the columns where all the values are not zero"
   ]
  },
  {
   "cell_type": "markdown",
   "metadata": {},
   "source": [
    "First we have to convert these element-based compositions to the oxide-based compositions we started with (or alternatively, we could go the other way around):"
   ]
  },
  {
   "cell_type": "code",
   "execution_count": null,
   "metadata": {
    "collapsed": false,
    "jupyter": {
     "outputs_hidden": false
    }
   },
   "outputs": [],
   "source": [
    "emvalues = (\n",
    "    em.loc[:, [\"Mg\", \"Si\", \"Fe\"]]\n",
    "    .pyrochem.to_molecular()\n",
    "    .fillna(0)\n",
    "    .pyrochem.convert_chemistry(to=[\"MgO\", \"SiO2\", \"FeO\"], molecular=True)\n",
    "    .fillna(0)\n",
    "    .pyrocomp.renormalise(scale=1)\n",
    ")\n",
    "emvalues"
   ]
  },
  {
   "cell_type": "markdown",
   "metadata": {},
   "source": [
    "These can now be used with our endmember proportions to regenerate a composition, noting that these are molecular - we'll need to convert them to Wt%:\n"
   ]
  },
  {
   "cell_type": "code",
   "execution_count": null,
   "metadata": {
    "collapsed": false,
    "jupyter": {
     "outputs_hidden": false
    }
   },
   "outputs": [],
   "source": [
    "recombined = pd.DataFrame(\n",
    "    ed.values @ emvalues\n",
    ").pyrochem.to_weight()  # multiply the endmember proportions by the endmember compositions to get a weighted composition in wt%\n",
    "recombined"
   ]
  },
  {
   "cell_type": "markdown",
   "metadata": {},
   "source": [
    "To make sure these compositions are within 0.01 percent:\n",
    "\n",
    "\n"
   ]
  },
  {
   "cell_type": "code",
   "execution_count": null,
   "metadata": {
    "collapsed": false,
    "jupyter": {
     "outputs_hidden": false
    }
   },
   "outputs": [],
   "source": [
    "assert np.allclose(recombined.values, comp.values, rtol=10 ** -4)"
   ]
  },
  {
   "cell_type": "markdown",
   "metadata": {},
   "source": [
    "----\n",
    "**Optional:** Check out some of the other minerals and mineral groups."
   ]
  },
  {
   "cell_type": "code",
   "execution_count": null,
   "metadata": {},
   "outputs": [],
   "source": [
    "from pyrolite.mineral.mindb import get_mineral_group, list_groups, list_minerals\n",
    "\n",
    "list_groups()"
   ]
  },
  {
   "cell_type": "code",
   "execution_count": null,
   "metadata": {},
   "outputs": [],
   "source": [
    "get_mineral_group('olivine')"
   ]
  },
  {
   "cell_type": "markdown",
   "metadata": {},
   "source": [
    "----\n",
    "<div class='alert alert-warning'> <font size=\"+1\" color=\"black\"><b> Checkpoint & Time Check</b><br>How are things going?</font></div>\n",
    "\n",
    "----"
   ]
  },
  {
   "cell_type": "markdown",
   "metadata": {},
   "source": [
    "| [**Overview**](./00_overview.ipynb) | [Getting Started](./01_jupyter_python.ipynb) | **Examples:** | [Access](./02_accessing_indexing.ipynb) | [Transform](./03_transform.ipynb) | [Plotting](./04_simple_vis.ipynb) | [Norm-Spiders](./05_norm_spiders.ipynb) | [Minerals](./06_minerals.ipynb) | [lambdas](./07_lambdas.ipynb) | [CIPW](./08_CIPW_Norm.ipynb)  | **Extensions:** | [ML](./11_geochem_ML.ipynb) | [Spatial Data](./12_spatial_geochem.ipynb) |\n",
    "| -- | -- | -- | -- | -- | -- | -- | -- | -- | -- | -- | -- | -- |"
   ]
  }
 ],
 "metadata": {
  "kernelspec": {
   "display_name": "pyrolite",
   "language": "python",
   "name": "python3"
  },
  "language_info": {
   "codemirror_mode": {
    "name": "ipython",
    "version": 3
   },
   "file_extension": ".py",
   "mimetype": "text/x-python",
   "name": "python",
   "nbconvert_exporter": "python",
   "pygments_lexer": "ipython3",
   "version": "3.11.10"
  }
 },
 "nbformat": 4,
 "nbformat_minor": 4
}
